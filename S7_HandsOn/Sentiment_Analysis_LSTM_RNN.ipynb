{
  "nbformat": 4,
  "nbformat_minor": 0,
  "metadata": {
    "accelerator": "GPU",
    "colab": {
      "name": "NCsentiment.ipynb",
      "provenance": [],
      "collapsed_sections": [],
      "include_colab_link": true
    },
    "kernelspec": {
      "display_name": "Python 3.8.5 64-bit ('cv': conda)",
      "name": "python3"
    },
    "language_info": {
      "codemirror_mode": {
        "name": "ipython",
        "version": 3
      },
      "file_extension": ".py",
      "mimetype": "text/x-python",
      "name": "python",
      "nbconvert_exporter": "python",
      "pygments_lexer": "ipython3",
      "version": "3.8.5-final"
    }
  },
  "cells": [
    {
      "cell_type": "markdown",
      "metadata": {
        "id": "view-in-github",
        "colab_type": "text"
      },
      "source": [
        "<a href=\"https://colab.research.google.com/github/nikshrimali/TSAI_END/blob/main/S7_HandsOn/Sentiment_Analysis_LSTM_RNN.ipynb\" target=\"_parent\"><img src=\"https://colab.research.google.com/assets/colab-badge.svg\" alt=\"Open In Colab\"/></a>"
      ]
    },
    {
      "cell_type": "code",
      "metadata": {
        "colab": {
          "base_uri": "https://localhost:8080/"
        },
        "id": "FIMQ11Bz-1DC",
        "outputId": "1f20be1b-85ff-49a2-ecd1-893cbb4a7f4c"
      },
      "source": [
        "# Sentiment analysis using LSTM Model\n",
        "\n",
        "import os\n",
        "import sys\n",
        "\n",
        "import pandas\n",
        "import random\n",
        "import torch, torchtext\n",
        "from torchtext import data \n",
        "\n",
        "import spacy\n",
        "spacy.load(\"en\")\n",
        "\n",
        "# Manual Seed\n",
        "SEED = 43\n",
        "torch.manual_seed(SEED)\n",
        "\n",
        "# Selecting the device\n",
        "device = \"cuda\" if torch.cuda.is_available() else \"cpu\"\n",
        "print(device)"
      ],
      "execution_count": null,
      "outputs": [
        {
          "output_type": "stream",
          "text": [
            "cuda\n"
          ],
          "name": "stdout"
        }
      ]
    },
    {
      "cell_type": "code",
      "metadata": {
        "colab": {
          "base_uri": "https://localhost:8080/"
        },
        "id": "ynCI6zdd_IlP",
        "outputId": "b50a126d-63a8-4b51-8373-889cfb460d2f"
      },
      "source": [
        "!wget nlp.stanford.edu/~socherr/stanfordSentimentTreebank.zip"
      ],
      "execution_count": null,
      "outputs": [
        {
          "output_type": "stream",
          "text": [
            "--2020-12-23 01:34:45--  http://nlp.stanford.edu/~socherr/stanfordSentimentTreebank.zip\n",
            "Resolving nlp.stanford.edu (nlp.stanford.edu)... 171.64.67.140\n",
            "Connecting to nlp.stanford.edu (nlp.stanford.edu)|171.64.67.140|:80... connected.\n",
            "HTTP request sent, awaiting response... 302 Found\n",
            "Location: https://nlp.stanford.edu/~socherr/stanfordSentimentTreebank.zip [following]\n",
            "--2020-12-23 01:34:45--  https://nlp.stanford.edu/~socherr/stanfordSentimentTreebank.zip\n",
            "Connecting to nlp.stanford.edu (nlp.stanford.edu)|171.64.67.140|:443... connected.\n",
            "HTTP request sent, awaiting response... 200 OK\n",
            "Length: 6372817 (6.1M) [application/zip]\n",
            "Saving to: ‘stanfordSentimentTreebank.zip.2’\n",
            "\n",
            "stanfordSentimentTr 100%[===================>]   6.08M   854KB/s    in 5.2s    \n",
            "\n",
            "2020-12-23 01:34:50 (1.17 MB/s) - ‘stanfordSentimentTreebank.zip.2’ saved [6372817/6372817]\n",
            "\n"
          ],
          "name": "stdout"
        }
      ]
    },
    {
      "cell_type": "code",
      "metadata": {
        "colab": {
          "base_uri": "https://localhost:8080/"
        },
        "id": "rtlI6SCS_bow",
        "outputId": "702cd043-233e-4ce5-df78-ca8a64b11e47"
      },
      "source": [
        "!unzip /content/stanfordSentimentTreebank.zip"
      ],
      "execution_count": null,
      "outputs": [
        {
          "output_type": "stream",
          "text": [
            "Archive:  /content/stanfordSentimentTreebank.zip\n",
            "replace stanfordSentimentTreebank/datasetSentences.txt? [y]es, [n]o, [A]ll, [N]one, [r]ename: N\n"
          ],
          "name": "stdout"
        }
      ]
    },
    {
      "cell_type": "code",
      "metadata": {
        "id": "ftUNqWIS-1DP"
      },
      "source": [
        "\n",
        "# Put all the Stanford Sentiment Treebank phrase data into test, training, and dev CSVs.\n",
        "\n",
        "def get_phrase_sentiments(base_directory):\n",
        "    def group_labels(label):\n",
        "        if label in [\"very negative\", \"negative\"]:\n",
        "            return \"negative\"\n",
        "        elif label in [\"positive\", \"very positive\"]:\n",
        "            return \"positive\"\n",
        "        else:\n",
        "            return \"neutral\"\n",
        "\n",
        "    dictionary = pandas.read_csv(os.path.join(base_directory, \"dictionary.txt\"), sep=\"|\")\n",
        "    dictionary.columns = [\"phrase\", \"id\"]\n",
        "    dictionary = dictionary.set_index(\"id\")\n",
        "\n",
        "    sentiment_labels = pandas.read_csv(os.path.join(base_directory, \"sentiment_labels.txt\"), sep=\"|\")\n",
        "    sentiment_labels.columns = [\"id\", \"sentiment\"]\n",
        "    sentiment_labels = sentiment_labels.set_index(\"id\")\n",
        "\n",
        "    phrase_sentiments = dictionary.join(sentiment_labels)\n",
        "\n",
        "    phrase_sentiments[\"fine\"] = pandas.cut(phrase_sentiments.sentiment, [0, 0.2, 0.4, 0.6, 0.8, 1.0],\n",
        "                                           include_lowest=True,\n",
        "                                           labels=[\"very negative\", \"negative\", \"neutral\", \"positive\", \"very positive\"])\n",
        "    phrase_sentiments[\"coarse\"] = phrase_sentiments.fine.apply(group_labels)\n",
        "    return phrase_sentiments\n",
        "\n",
        "\n",
        "def get_sentence_partitions(base_directory):\n",
        "    sentences = pandas.read_csv(os.path.join(base_directory, \"datasetSentences.txt\"), index_col=\"sentence_index\",\n",
        "                                sep=\"\\t\")\n",
        "    splits = pandas.read_csv(os.path.join(base_directory, \"datasetSplit.txt\"), index_col=\"sentence_index\")\n",
        "    return sentences.join(splits).set_index(\"sentence\")\n",
        "\n",
        "\n",
        "def partition(base_directory):\n",
        "    phrase_sentiments = get_phrase_sentiments(base_directory)\n",
        "    sentence_partitions = get_sentence_partitions(base_directory)\n",
        "    # noinspection PyUnresolvedReferences\n",
        "    data = phrase_sentiments.join(sentence_partitions, on=\"phrase\")\n",
        "    data[\"splitset_label\"] = data[\"splitset_label\"].fillna(1).astype(int)\n",
        "    data[\"phrase\"] = data[\"phrase\"].str.replace(r\"\\s('s|'d|'re|'ll|'m|'ve|n't)\\b\", lambda m: m.group(1))\n",
        "    return data.groupby(\"splitset_label\")\n",
        "\n",
        "\n",
        "base_directory = r'/content/stanfordSentimentTreebank'\n",
        "output_directory = r'/content/output'\n",
        "os.makedirs(output_directory, exist_ok=True)\n",
        "for splitset, partition in partition(base_directory):\n",
        "    split_name = {1: \"train\", 2: \"test\", 3: \"dev\"}[splitset]\n",
        "    filename = os.path.join(output_directory, \"stanford-sentiment-treebank.%s.csv\" % split_name)\n",
        "    del partition[\"splitset_label\"]\n",
        "    partition.to_csv(filename)"
      ],
      "execution_count": null,
      "outputs": []
    },
    {
      "cell_type": "code",
      "metadata": {
        "id": "6fba2Ptn-1DQ"
      },
      "source": [
        "valid = pandas.read_csv(r'/content/output/stanford-sentiment-treebank.dev.csv')\n",
        "test = pandas.read_csv(r'/content/output/stanford-sentiment-treebank.test.csv')\n",
        "train = pandas.read_csv(r'/content/output/stanford-sentiment-treebank.train.csv')"
      ],
      "execution_count": null,
      "outputs": []
    },
    {
      "cell_type": "code",
      "metadata": {
        "id": "0Zx4SFZb-1DS",
        "colab": {
          "base_uri": "https://localhost:8080/",
          "height": 358
        },
        "outputId": "2b28be02-fb24-4a41-e753-e862dd4085b4"
      },
      "source": [
        "print(train.shape)\r\n",
        "train.head(10)"
      ],
      "execution_count": null,
      "outputs": [
        {
          "output_type": "stream",
          "text": [
            "(236076, 5)\n"
          ],
          "name": "stdout"
        },
        {
          "output_type": "execute_result",
          "data": {
            "text/html": [
              "<div>\n",
              "<style scoped>\n",
              "    .dataframe tbody tr th:only-of-type {\n",
              "        vertical-align: middle;\n",
              "    }\n",
              "\n",
              "    .dataframe tbody tr th {\n",
              "        vertical-align: top;\n",
              "    }\n",
              "\n",
              "    .dataframe thead th {\n",
              "        text-align: right;\n",
              "    }\n",
              "</style>\n",
              "<table border=\"1\" class=\"dataframe\">\n",
              "  <thead>\n",
              "    <tr style=\"text-align: right;\">\n",
              "      <th></th>\n",
              "      <th>id</th>\n",
              "      <th>phrase</th>\n",
              "      <th>sentiment</th>\n",
              "      <th>fine</th>\n",
              "      <th>coarse</th>\n",
              "    </tr>\n",
              "  </thead>\n",
              "  <tbody>\n",
              "    <tr>\n",
              "      <th>0</th>\n",
              "      <td>22935</td>\n",
              "      <td>! '</td>\n",
              "      <td>0.52778</td>\n",
              "      <td>neutral</td>\n",
              "      <td>neutral</td>\n",
              "    </tr>\n",
              "    <tr>\n",
              "      <th>1</th>\n",
              "      <td>18235</td>\n",
              "      <td>! ''</td>\n",
              "      <td>0.50000</td>\n",
              "      <td>neutral</td>\n",
              "      <td>neutral</td>\n",
              "    </tr>\n",
              "    <tr>\n",
              "      <th>2</th>\n",
              "      <td>179257</td>\n",
              "      <td>! Alas</td>\n",
              "      <td>0.44444</td>\n",
              "      <td>neutral</td>\n",
              "      <td>neutral</td>\n",
              "    </tr>\n",
              "    <tr>\n",
              "      <th>3</th>\n",
              "      <td>22936</td>\n",
              "      <td>! Brilliant</td>\n",
              "      <td>0.86111</td>\n",
              "      <td>very positive</td>\n",
              "      <td>positive</td>\n",
              "    </tr>\n",
              "    <tr>\n",
              "      <th>4</th>\n",
              "      <td>40532</td>\n",
              "      <td>! Brilliant !</td>\n",
              "      <td>0.93056</td>\n",
              "      <td>very positive</td>\n",
              "      <td>positive</td>\n",
              "    </tr>\n",
              "    <tr>\n",
              "      <th>5</th>\n",
              "      <td>22937</td>\n",
              "      <td>! Brilliant ! '</td>\n",
              "      <td>1.00000</td>\n",
              "      <td>very positive</td>\n",
              "      <td>positive</td>\n",
              "    </tr>\n",
              "    <tr>\n",
              "      <th>6</th>\n",
              "      <td>60624</td>\n",
              "      <td>! C'mon</td>\n",
              "      <td>0.47222</td>\n",
              "      <td>neutral</td>\n",
              "      <td>neutral</td>\n",
              "    </tr>\n",
              "    <tr>\n",
              "      <th>7</th>\n",
              "      <td>13402</td>\n",
              "      <td>! Gollum's ` performance ' is incredible</td>\n",
              "      <td>0.76389</td>\n",
              "      <td>positive</td>\n",
              "      <td>positive</td>\n",
              "    </tr>\n",
              "    <tr>\n",
              "      <th>8</th>\n",
              "      <td>179258</td>\n",
              "      <td>! Oh , look at that clever angle ! Wow , a jum...</td>\n",
              "      <td>0.27778</td>\n",
              "      <td>negative</td>\n",
              "      <td>negative</td>\n",
              "    </tr>\n",
              "    <tr>\n",
              "      <th>9</th>\n",
              "      <td>140882</td>\n",
              "      <td>! Romething</td>\n",
              "      <td>0.50000</td>\n",
              "      <td>neutral</td>\n",
              "      <td>neutral</td>\n",
              "    </tr>\n",
              "  </tbody>\n",
              "</table>\n",
              "</div>"
            ],
            "text/plain": [
              "       id  ...    coarse\n",
              "0   22935  ...   neutral\n",
              "1   18235  ...   neutral\n",
              "2  179257  ...   neutral\n",
              "3   22936  ...  positive\n",
              "4   40532  ...  positive\n",
              "5   22937  ...  positive\n",
              "6   60624  ...   neutral\n",
              "7   13402  ...  positive\n",
              "8  179258  ...  negative\n",
              "9  140882  ...   neutral\n",
              "\n",
              "[10 rows x 5 columns]"
            ]
          },
          "metadata": {
            "tags": []
          },
          "execution_count": 6
        }
      ]
    },
    {
      "cell_type": "code",
      "metadata": {
        "id": "nfX7oO1jhfyK",
        "colab": {
          "base_uri": "https://localhost:8080/"
        },
        "outputId": "4060654e-86ca-4377-98ef-4bdc37d46e53"
      },
      "source": [
        "# Removing stop words and numbers\r\n",
        "\r\n",
        "import re\r\n",
        "import nltk\r\n",
        "nltk.download('stopwords')\r\n",
        "nltk.download('punkt')\r\n",
        "from nltk.tokenize import word_tokenize\r\n",
        "from string import punctuation \r\n",
        "from nltk.corpus import stopwords\r\n",
        "import string\r\n",
        "\r\n",
        "stopwords = set(stopwords.words('english') + ['AT_USER','URL'])\r\n",
        "    \r\n",
        "def processTweet(tweet):\r\n",
        "    # tweet is the text we will pass for preprocessing\r\n",
        "    # convert passed tweet to lower case \r\n",
        "    tweet = str(tweet).lower()\r\n",
        "    tweet = re.sub('((www\\.[^\\s]+)|(https?://[^\\s]+))', 'URL', tweet) # remove URLs\r\n",
        "    tweet = re.sub('@[^\\s]+', 'AT_USER', tweet) # remove usernames\r\n",
        "    tweet = re.sub(r'#([^\\s]+)', r'\\1', tweet) # remove the # in #hashtag\r\n",
        "    tweet = re.sub(r'#([\\s]+)', r'\\1', tweet) # remove the # space\r\n",
        "    tweet = tweet.replace(\"'\", \"\")\r\n",
        "    tweet = re.sub('[^A-Za-z0-9]+', ' ', tweet) # remove # and numbers\r\n",
        "    # use work_tokenize imported above to tokenize the tweet\r\n",
        "    tweet =  word_tokenize(tweet)\r\n",
        "    return [word for word in tweet if word not in stopwords or word not in list(punctuation)]"
      ],
      "execution_count": null,
      "outputs": [
        {
          "output_type": "stream",
          "text": [
            "[nltk_data] Downloading package stopwords to /root/nltk_data...\n",
            "[nltk_data]   Package stopwords is already up-to-date!\n",
            "[nltk_data] Downloading package punkt to /root/nltk_data...\n",
            "[nltk_data]   Package punkt is already up-to-date!\n"
          ],
          "name": "stdout"
        }
      ]
    },
    {
      "cell_type": "code",
      "metadata": {
        "id": "Gejs5SnrhzQT"
      },
      "source": [
        "# processed=[]\r\n",
        "\r\n",
        "# for phrase in train['phrase']:\r\n",
        "#     # process all tweets using processTweet function above - store in variable 'cleaned' \r\n",
        "#     cleaned=processTweet(phrase)\r\n",
        "#     processed.append(' '.join(cleaned))\r\n",
        "    "
      ],
      "execution_count": null,
      "outputs": []
    },
    {
      "cell_type": "code",
      "metadata": {
        "id": "GIbHVnqUiszh"
      },
      "source": [
        "train = train[train['phrase'].map(len) > 4]"
      ],
      "execution_count": null,
      "outputs": []
    },
    {
      "cell_type": "code",
      "metadata": {
        "id": "CLuJ9qVXi0TO",
        "colab": {
          "base_uri": "https://localhost:8080/",
          "height": 194
        },
        "outputId": "b1aaa782-76bf-4289-ccae-3cb5e925b823"
      },
      "source": [
        "train.head(5)"
      ],
      "execution_count": null,
      "outputs": [
        {
          "output_type": "execute_result",
          "data": {
            "text/html": [
              "<div>\n",
              "<style scoped>\n",
              "    .dataframe tbody tr th:only-of-type {\n",
              "        vertical-align: middle;\n",
              "    }\n",
              "\n",
              "    .dataframe tbody tr th {\n",
              "        vertical-align: top;\n",
              "    }\n",
              "\n",
              "    .dataframe thead th {\n",
              "        text-align: right;\n",
              "    }\n",
              "</style>\n",
              "<table border=\"1\" class=\"dataframe\">\n",
              "  <thead>\n",
              "    <tr style=\"text-align: right;\">\n",
              "      <th></th>\n",
              "      <th>id</th>\n",
              "      <th>phrase</th>\n",
              "      <th>sentiment</th>\n",
              "      <th>fine</th>\n",
              "      <th>coarse</th>\n",
              "    </tr>\n",
              "  </thead>\n",
              "  <tbody>\n",
              "    <tr>\n",
              "      <th>2</th>\n",
              "      <td>179257</td>\n",
              "      <td>! Alas</td>\n",
              "      <td>0.44444</td>\n",
              "      <td>neutral</td>\n",
              "      <td>neutral</td>\n",
              "    </tr>\n",
              "    <tr>\n",
              "      <th>3</th>\n",
              "      <td>22936</td>\n",
              "      <td>! Brilliant</td>\n",
              "      <td>0.86111</td>\n",
              "      <td>very positive</td>\n",
              "      <td>positive</td>\n",
              "    </tr>\n",
              "    <tr>\n",
              "      <th>4</th>\n",
              "      <td>40532</td>\n",
              "      <td>! Brilliant !</td>\n",
              "      <td>0.93056</td>\n",
              "      <td>very positive</td>\n",
              "      <td>positive</td>\n",
              "    </tr>\n",
              "    <tr>\n",
              "      <th>5</th>\n",
              "      <td>22937</td>\n",
              "      <td>! Brilliant ! '</td>\n",
              "      <td>1.00000</td>\n",
              "      <td>very positive</td>\n",
              "      <td>positive</td>\n",
              "    </tr>\n",
              "    <tr>\n",
              "      <th>6</th>\n",
              "      <td>60624</td>\n",
              "      <td>! C'mon</td>\n",
              "      <td>0.47222</td>\n",
              "      <td>neutral</td>\n",
              "      <td>neutral</td>\n",
              "    </tr>\n",
              "  </tbody>\n",
              "</table>\n",
              "</div>"
            ],
            "text/plain": [
              "       id           phrase  sentiment           fine    coarse\n",
              "2  179257           ! Alas    0.44444        neutral   neutral\n",
              "3   22936      ! Brilliant    0.86111  very positive  positive\n",
              "4   40532    ! Brilliant !    0.93056  very positive  positive\n",
              "5   22937  ! Brilliant ! '    1.00000  very positive  positive\n",
              "6   60624          ! C'mon    0.47222        neutral   neutral"
            ]
          },
          "metadata": {
            "tags": []
          },
          "execution_count": 10
        }
      ]
    },
    {
      "cell_type": "code",
      "metadata": {
        "id": "cdrBKWRvjDGD",
        "colab": {
          "base_uri": "https://localhost:8080/",
          "height": 194
        },
        "outputId": "23b38e62-3ac8-4629-915f-e086546dcd2d"
      },
      "source": [
        "train.sample(5)"
      ],
      "execution_count": null,
      "outputs": [
        {
          "output_type": "execute_result",
          "data": {
            "text/html": [
              "<div>\n",
              "<style scoped>\n",
              "    .dataframe tbody tr th:only-of-type {\n",
              "        vertical-align: middle;\n",
              "    }\n",
              "\n",
              "    .dataframe tbody tr th {\n",
              "        vertical-align: top;\n",
              "    }\n",
              "\n",
              "    .dataframe thead th {\n",
              "        text-align: right;\n",
              "    }\n",
              "</style>\n",
              "<table border=\"1\" class=\"dataframe\">\n",
              "  <thead>\n",
              "    <tr style=\"text-align: right;\">\n",
              "      <th></th>\n",
              "      <th>id</th>\n",
              "      <th>phrase</th>\n",
              "      <th>sentiment</th>\n",
              "      <th>fine</th>\n",
              "      <th>coarse</th>\n",
              "    </tr>\n",
              "  </thead>\n",
              "  <tbody>\n",
              "    <tr>\n",
              "      <th>56820</th>\n",
              "      <td>189697</td>\n",
              "      <td>While the new film is much more eye-catching t...</td>\n",
              "      <td>0.56944</td>\n",
              "      <td>neutral</td>\n",
              "      <td>neutral</td>\n",
              "    </tr>\n",
              "    <tr>\n",
              "      <th>114163</th>\n",
              "      <td>41956</td>\n",
              "      <td>fresh and</td>\n",
              "      <td>0.91667</td>\n",
              "      <td>very positive</td>\n",
              "      <td>positive</td>\n",
              "    </tr>\n",
              "    <tr>\n",
              "      <th>206205</th>\n",
              "      <td>96298</td>\n",
              "      <td>the ongoing - and unprecedented - construction...</td>\n",
              "      <td>0.56944</td>\n",
              "      <td>neutral</td>\n",
              "      <td>neutral</td>\n",
              "    </tr>\n",
              "    <tr>\n",
              "      <th>152802</th>\n",
              "      <td>206073</td>\n",
              "      <td>message-movie</td>\n",
              "      <td>0.50000</td>\n",
              "      <td>neutral</td>\n",
              "      <td>neutral</td>\n",
              "    </tr>\n",
              "    <tr>\n",
              "      <th>5388</th>\n",
              "      <td>141819</td>\n",
              "      <td>( T ) hose same extremes prevent us from takin...</td>\n",
              "      <td>0.37500</td>\n",
              "      <td>negative</td>\n",
              "      <td>negative</td>\n",
              "    </tr>\n",
              "  </tbody>\n",
              "</table>\n",
              "</div>"
            ],
            "text/plain": [
              "            id  ...    coarse\n",
              "56820   189697  ...   neutral\n",
              "114163   41956  ...  positive\n",
              "206205   96298  ...   neutral\n",
              "152802  206073  ...   neutral\n",
              "5388    141819  ...  negative\n",
              "\n",
              "[5 rows x 5 columns]"
            ]
          },
          "metadata": {
            "tags": []
          },
          "execution_count": 11
        }
      ]
    },
    {
      "cell_type": "code",
      "metadata": {
        "id": "n_6VQwqPjOvz"
      },
      "source": [
        "def fine_to_label(fine):\r\n",
        "  if fine == 'very negative':\r\n",
        "    return 0\r\n",
        "  elif fine == 'negative':\r\n",
        "    return 1\r\n",
        "  elif fine == 'neutral':\r\n",
        "    return 2\r\n",
        "  elif fine == 'positive':\r\n",
        "    return 3\r\n",
        "  elif fine == 'very positive':\r\n",
        "    return 4\r\n",
        "\r\n",
        "train['label'] = train.apply(lambda row: fine_to_label(row['fine']), axis=1)"
      ],
      "execution_count": null,
      "outputs": []
    },
    {
      "cell_type": "code",
      "metadata": {
        "id": "HHbVZdISDQcm",
        "colab": {
          "base_uri": "https://localhost:8080/"
        },
        "outputId": "a75674f4-0473-421b-94e5-70785a5b5e87"
      },
      "source": [
        "!pip install google_trans_new"
      ],
      "execution_count": null,
      "outputs": [
        {
          "output_type": "stream",
          "text": [
            "Requirement already satisfied: google_trans_new in /usr/local/lib/python3.6/dist-packages (1.1.9)\n"
          ],
          "name": "stdout"
        }
      ]
    },
    {
      "cell_type": "markdown",
      "metadata": {
        "id": "9Z2hJAwjDo9o"
      },
      "source": [
        "# Data Augmentations"
      ]
    },
    {
      "cell_type": "markdown",
      "metadata": {
        "id": "zTdaNLZtDu2G"
      },
      "source": [
        "# Back Translations\r\n",
        "\r\n",
        "Translate text to a langauge to again translate back to english"
      ]
    },
    {
      "cell_type": "code",
      "metadata": {
        "id": "FAIYQfycDSuS"
      },
      "source": [
        "import random\r\n",
        "import google_trans_new\r\n",
        "from google_trans_new import google_translator\r\n",
        "\r\n",
        "def backTranslation(sentence):\r\n",
        "  translator = google_translator()\r\n",
        "  \r\n",
        "  available_langs = list(google_trans_new.LANGUAGES.keys()) \r\n",
        "  trans_lang = random.choice(available_langs) \r\n",
        "  \r\n",
        "  translations = translator.translate(sentence, lang_tgt=trans_lang) \r\n",
        "\r\n",
        "  translations_en_random = translator.translate(translations, lang_src=trans_lang, lang_tgt='en') \r\n",
        "  return translations_en_random"
      ],
      "execution_count": null,
      "outputs": []
    },
    {
      "cell_type": "markdown",
      "metadata": {
        "id": "Qc77HlRWD75w"
      },
      "source": [
        "## Random Deletion\r\n",
        "\r\n",
        "Randomly deletes words from sentences given a probability parameter 'p'"
      ]
    },
    {
      "cell_type": "code",
      "metadata": {
        "id": "NGAmL3q_D7dm"
      },
      "source": [
        "def random_deletion(words, p=0.2):\r\n",
        "    \r\n",
        "    if len(words) == 1: # return if single word\r\n",
        "        return words\r\n",
        "    \r\n",
        "    remaining = list(filter(lambda x: random.uniform(0,1) > p,words)) \r\n",
        "    if len(remaining) == 0: # if not left, sample a random word\r\n",
        "        return [random.choice(words)] \r\n",
        "    else:\r\n",
        "        return remaining"
      ],
      "execution_count": null,
      "outputs": []
    },
    {
      "cell_type": "code",
      "metadata": {
        "colab": {
          "base_uri": "https://localhost:8080/"
        },
        "id": "2AVkPE4MFzVo",
        "outputId": "11a685ab-9f0e-46c4-e1b3-ac226973cb09"
      },
      "source": [
        "sent = ['I', 'am a lucky guy']\r\n",
        "print(random_deletion(sent))"
      ],
      "execution_count": null,
      "outputs": [
        {
          "output_type": "stream",
          "text": [
            "['I', 'am a lucky guy']\n"
          ],
          "name": "stdout"
        }
      ]
    },
    {
      "cell_type": "markdown",
      "metadata": {
        "id": "4jkKV_VYEX0Z"
      },
      "source": [
        "## Random Swap\r\n",
        "\r\n",
        "Takes sentence and then swaps words within it n times"
      ]
    },
    {
      "cell_type": "code",
      "metadata": {
        "id": "OzU7cih2Em7p"
      },
      "source": [
        "def random_swap(sentence, n=5): \r\n",
        "    length = range(len(sentence)) \r\n",
        "    for _ in range(n):\r\n",
        "        idx1, idx2 = random.sample(length, 2)\r\n",
        "        sentence[idx1], sentence[idx2] = sentence[idx2], sentence[idx1]\r\n",
        "    return sentence"
      ],
      "execution_count": null,
      "outputs": []
    },
    {
      "cell_type": "code",
      "metadata": {
        "id": "99XDIiL5ExwI"
      },
      "source": [
        "def augment_data(text):\r\n",
        "    # Takes a random no and applies augmentation based upon that\r\n",
        "    aug = random.randint(0,9)\r\n",
        "    text = processTweet(text)\r\n",
        "\r\n",
        "    if len(text) > 3:\r\n",
        "        if aug == 1:\r\n",
        "            text = random_swap(text)\r\n",
        "            # print('random swap', text)\r\n",
        "        elif aug == 2:\r\n",
        "            text = random_deletion(text)\r\n",
        "            # print('Random deletion', text)\r\n",
        "        elif aug == 3:\r\n",
        "            text = backTranslation(text)\r\n",
        "        #     # print('back translation', text)\r\n",
        "    \r\n",
        "    return text"
      ],
      "execution_count": null,
      "outputs": []
    },
    {
      "cell_type": "code",
      "metadata": {
        "colab": {
          "base_uri": "https://localhost:8080/",
          "height": 340
        },
        "id": "NdJ6Zw_17lsl",
        "outputId": "2d6431a1-2571-4581-85e4-ad55ddea5f02"
      },
      "source": [
        "train.head(10)"
      ],
      "execution_count": null,
      "outputs": [
        {
          "output_type": "execute_result",
          "data": {
            "text/html": [
              "<div>\n",
              "<style scoped>\n",
              "    .dataframe tbody tr th:only-of-type {\n",
              "        vertical-align: middle;\n",
              "    }\n",
              "\n",
              "    .dataframe tbody tr th {\n",
              "        vertical-align: top;\n",
              "    }\n",
              "\n",
              "    .dataframe thead th {\n",
              "        text-align: right;\n",
              "    }\n",
              "</style>\n",
              "<table border=\"1\" class=\"dataframe\">\n",
              "  <thead>\n",
              "    <tr style=\"text-align: right;\">\n",
              "      <th></th>\n",
              "      <th>id</th>\n",
              "      <th>phrase</th>\n",
              "      <th>sentiment</th>\n",
              "      <th>fine</th>\n",
              "      <th>coarse</th>\n",
              "      <th>label</th>\n",
              "    </tr>\n",
              "  </thead>\n",
              "  <tbody>\n",
              "    <tr>\n",
              "      <th>2</th>\n",
              "      <td>179257</td>\n",
              "      <td>! Alas</td>\n",
              "      <td>0.44444</td>\n",
              "      <td>neutral</td>\n",
              "      <td>neutral</td>\n",
              "      <td>2</td>\n",
              "    </tr>\n",
              "    <tr>\n",
              "      <th>3</th>\n",
              "      <td>22936</td>\n",
              "      <td>! Brilliant</td>\n",
              "      <td>0.86111</td>\n",
              "      <td>very positive</td>\n",
              "      <td>positive</td>\n",
              "      <td>4</td>\n",
              "    </tr>\n",
              "    <tr>\n",
              "      <th>4</th>\n",
              "      <td>40532</td>\n",
              "      <td>! Brilliant !</td>\n",
              "      <td>0.93056</td>\n",
              "      <td>very positive</td>\n",
              "      <td>positive</td>\n",
              "      <td>4</td>\n",
              "    </tr>\n",
              "    <tr>\n",
              "      <th>5</th>\n",
              "      <td>22937</td>\n",
              "      <td>! Brilliant ! '</td>\n",
              "      <td>1.00000</td>\n",
              "      <td>very positive</td>\n",
              "      <td>positive</td>\n",
              "      <td>4</td>\n",
              "    </tr>\n",
              "    <tr>\n",
              "      <th>6</th>\n",
              "      <td>60624</td>\n",
              "      <td>! C'mon</td>\n",
              "      <td>0.47222</td>\n",
              "      <td>neutral</td>\n",
              "      <td>neutral</td>\n",
              "      <td>2</td>\n",
              "    </tr>\n",
              "    <tr>\n",
              "      <th>7</th>\n",
              "      <td>13402</td>\n",
              "      <td>! Gollum's ` performance ' is incredible</td>\n",
              "      <td>0.76389</td>\n",
              "      <td>positive</td>\n",
              "      <td>positive</td>\n",
              "      <td>3</td>\n",
              "    </tr>\n",
              "    <tr>\n",
              "      <th>8</th>\n",
              "      <td>179258</td>\n",
              "      <td>! Oh , look at that clever angle ! Wow , a jum...</td>\n",
              "      <td>0.27778</td>\n",
              "      <td>negative</td>\n",
              "      <td>negative</td>\n",
              "      <td>1</td>\n",
              "    </tr>\n",
              "    <tr>\n",
              "      <th>9</th>\n",
              "      <td>140882</td>\n",
              "      <td>! Romething</td>\n",
              "      <td>0.50000</td>\n",
              "      <td>neutral</td>\n",
              "      <td>neutral</td>\n",
              "      <td>2</td>\n",
              "    </tr>\n",
              "    <tr>\n",
              "      <th>10</th>\n",
              "      <td>179259</td>\n",
              "      <td>! Run</td>\n",
              "      <td>0.43056</td>\n",
              "      <td>neutral</td>\n",
              "      <td>neutral</td>\n",
              "      <td>2</td>\n",
              "    </tr>\n",
              "    <tr>\n",
              "      <th>11</th>\n",
              "      <td>60625</td>\n",
              "      <td>! The Movie</td>\n",
              "      <td>0.50000</td>\n",
              "      <td>neutral</td>\n",
              "      <td>neutral</td>\n",
              "      <td>2</td>\n",
              "    </tr>\n",
              "  </tbody>\n",
              "</table>\n",
              "</div>"
            ],
            "text/plain": [
              "        id                                             phrase  ...    coarse label\n",
              "2   179257                                             ! Alas  ...   neutral     2\n",
              "3    22936                                        ! Brilliant  ...  positive     4\n",
              "4    40532                                      ! Brilliant !  ...  positive     4\n",
              "5    22937                                    ! Brilliant ! '  ...  positive     4\n",
              "6    60624                                            ! C'mon  ...   neutral     2\n",
              "7    13402           ! Gollum's ` performance ' is incredible  ...  positive     3\n",
              "8   179258  ! Oh , look at that clever angle ! Wow , a jum...  ...  negative     1\n",
              "9   140882                                        ! Romething  ...   neutral     2\n",
              "10  179259                                              ! Run  ...   neutral     2\n",
              "11   60625                                        ! The Movie  ...   neutral     2\n",
              "\n",
              "[10 rows x 6 columns]"
            ]
          },
          "metadata": {
            "tags": []
          },
          "execution_count": 19
        }
      ]
    },
    {
      "cell_type": "code",
      "metadata": {
        "id": "61vIV5RXGg7y"
      },
      "source": [
        "train = train[:30000]"
      ],
      "execution_count": null,
      "outputs": []
    },
    {
      "cell_type": "code",
      "metadata": {
        "colab": {
          "base_uri": "https://localhost:8080/",
          "height": 399
        },
        "id": "hbjAaxsnDnaH",
        "outputId": "a0696a9e-b940-49e8-a6a3-97febcb341d5"
      },
      "source": [
        "train"
      ],
      "execution_count": null,
      "outputs": [
        {
          "output_type": "execute_result",
          "data": {
            "text/html": [
              "<div>\n",
              "<style scoped>\n",
              "    .dataframe tbody tr th:only-of-type {\n",
              "        vertical-align: middle;\n",
              "    }\n",
              "\n",
              "    .dataframe tbody tr th {\n",
              "        vertical-align: top;\n",
              "    }\n",
              "\n",
              "    .dataframe thead th {\n",
              "        text-align: right;\n",
              "    }\n",
              "</style>\n",
              "<table border=\"1\" class=\"dataframe\">\n",
              "  <thead>\n",
              "    <tr style=\"text-align: right;\">\n",
              "      <th></th>\n",
              "      <th>id</th>\n",
              "      <th>phrase</th>\n",
              "      <th>sentiment</th>\n",
              "      <th>fine</th>\n",
              "      <th>coarse</th>\n",
              "      <th>label</th>\n",
              "    </tr>\n",
              "  </thead>\n",
              "  <tbody>\n",
              "    <tr>\n",
              "      <th>2</th>\n",
              "      <td>179257</td>\n",
              "      <td>! Alas</td>\n",
              "      <td>0.44444</td>\n",
              "      <td>neutral</td>\n",
              "      <td>neutral</td>\n",
              "      <td>2</td>\n",
              "    </tr>\n",
              "    <tr>\n",
              "      <th>3</th>\n",
              "      <td>22936</td>\n",
              "      <td>! Brilliant</td>\n",
              "      <td>0.86111</td>\n",
              "      <td>very positive</td>\n",
              "      <td>positive</td>\n",
              "      <td>4</td>\n",
              "    </tr>\n",
              "    <tr>\n",
              "      <th>4</th>\n",
              "      <td>40532</td>\n",
              "      <td>! Brilliant !</td>\n",
              "      <td>0.93056</td>\n",
              "      <td>very positive</td>\n",
              "      <td>positive</td>\n",
              "      <td>4</td>\n",
              "    </tr>\n",
              "    <tr>\n",
              "      <th>5</th>\n",
              "      <td>22937</td>\n",
              "      <td>! Brilliant ! '</td>\n",
              "      <td>1.00000</td>\n",
              "      <td>very positive</td>\n",
              "      <td>positive</td>\n",
              "      <td>4</td>\n",
              "    </tr>\n",
              "    <tr>\n",
              "      <th>6</th>\n",
              "      <td>60624</td>\n",
              "      <td>! C'mon</td>\n",
              "      <td>0.47222</td>\n",
              "      <td>neutral</td>\n",
              "      <td>neutral</td>\n",
              "      <td>2</td>\n",
              "    </tr>\n",
              "    <tr>\n",
              "      <th>...</th>\n",
              "      <td>...</td>\n",
              "      <td>...</td>\n",
              "      <td>...</td>\n",
              "      <td>...</td>\n",
              "      <td>...</td>\n",
              "      <td>...</td>\n",
              "    </tr>\n",
              "    <tr>\n",
              "      <th>30683</th>\n",
              "      <td>184621</td>\n",
              "      <td>I can't remember the last time I saw an audien...</td>\n",
              "      <td>0.26389</td>\n",
              "      <td>negative</td>\n",
              "      <td>negative</td>\n",
              "      <td>1</td>\n",
              "    </tr>\n",
              "    <tr>\n",
              "      <th>30684</th>\n",
              "      <td>184622</td>\n",
              "      <td>I can't remember the last time I saw an audien...</td>\n",
              "      <td>0.44444</td>\n",
              "      <td>neutral</td>\n",
              "      <td>neutral</td>\n",
              "      <td>2</td>\n",
              "    </tr>\n",
              "    <tr>\n",
              "      <th>30685</th>\n",
              "      <td>106422</td>\n",
              "      <td>I can't remember the last time I saw worse stu...</td>\n",
              "      <td>0.36111</td>\n",
              "      <td>negative</td>\n",
              "      <td>negative</td>\n",
              "      <td>1</td>\n",
              "    </tr>\n",
              "    <tr>\n",
              "      <th>30686</th>\n",
              "      <td>184623</td>\n",
              "      <td>I can't say for sure</td>\n",
              "      <td>0.44444</td>\n",
              "      <td>neutral</td>\n",
              "      <td>neutral</td>\n",
              "      <td>2</td>\n",
              "    </tr>\n",
              "    <tr>\n",
              "      <th>30687</th>\n",
              "      <td>45559</td>\n",
              "      <td>I can't say it's on par with the first one</td>\n",
              "      <td>0.30556</td>\n",
              "      <td>negative</td>\n",
              "      <td>negative</td>\n",
              "      <td>1</td>\n",
              "    </tr>\n",
              "  </tbody>\n",
              "</table>\n",
              "<p>30000 rows × 6 columns</p>\n",
              "</div>"
            ],
            "text/plain": [
              "           id  ... label\n",
              "2      179257  ...     2\n",
              "3       22936  ...     4\n",
              "4       40532  ...     4\n",
              "5       22937  ...     4\n",
              "6       60624  ...     2\n",
              "...       ...  ...   ...\n",
              "30683  184621  ...     1\n",
              "30684  184622  ...     2\n",
              "30685  106422  ...     1\n",
              "30686  184623  ...     2\n",
              "30687   45559  ...     1\n",
              "\n",
              "[30000 rows x 6 columns]"
            ]
          },
          "metadata": {
            "tags": []
          },
          "execution_count": 21
        }
      ]
    },
    {
      "cell_type": "code",
      "metadata": {
        "colab": {
          "base_uri": "https://localhost:8080/"
        },
        "id": "s9GZMTZDDlT2",
        "outputId": "34228582-d102-4886-a180-907b5a093ec4"
      },
      "source": [
        "train.shape"
      ],
      "execution_count": null,
      "outputs": [
        {
          "output_type": "execute_result",
          "data": {
            "text/plain": [
              "(30000, 6)"
            ]
          },
          "metadata": {
            "tags": []
          },
          "execution_count": 22
        }
      ]
    },
    {
      "cell_type": "code",
      "metadata": {
        "id": "ei3CZOt4yeZJ",
        "colab": {
          "base_uri": "https://localhost:8080/"
        },
        "outputId": "9a50b8a5-330b-47d4-f5e5-bd4639f5b422"
      },
      "source": [
        "import time\r\n",
        "from tqdm import tqdm\r\n",
        "time_start = time.time()\r\n",
        "for i, sent in enumerate(train.phrase):\r\n",
        "    train.phrase[i] = ' '.join(augment_data(sent))"
      ],
      "execution_count": null,
      "outputs": [
        {
          "output_type": "stream",
          "text": [
            "/usr/local/lib/python3.6/dist-packages/ipykernel_launcher.py:5: SettingWithCopyWarning: \n",
            "A value is trying to be set on a copy of a slice from a DataFrame\n",
            "\n",
            "See the caveats in the documentation: https://pandas.pydata.org/pandas-docs/stable/user_guide/indexing.html#returning-a-view-versus-a-copy\n",
            "  \"\"\"\n"
          ],
          "name": "stderr"
        }
      ]
    },
    {
      "cell_type": "code",
      "metadata": {
        "colab": {
          "base_uri": "https://localhost:8080/",
          "height": 634
        },
        "id": "5uExFmPgD1bf",
        "outputId": "52cbca54-9fe4-464c-9cc2-a49271b194ef"
      },
      "source": [
        "train.sample(20)"
      ],
      "execution_count": null,
      "outputs": [
        {
          "output_type": "execute_result",
          "data": {
            "text/html": [
              "<div>\n",
              "<style scoped>\n",
              "    .dataframe tbody tr th:only-of-type {\n",
              "        vertical-align: middle;\n",
              "    }\n",
              "\n",
              "    .dataframe tbody tr th {\n",
              "        vertical-align: top;\n",
              "    }\n",
              "\n",
              "    .dataframe thead th {\n",
              "        text-align: right;\n",
              "    }\n",
              "</style>\n",
              "<table border=\"1\" class=\"dataframe\">\n",
              "  <thead>\n",
              "    <tr style=\"text-align: right;\">\n",
              "      <th></th>\n",
              "      <th>id</th>\n",
              "      <th>phrase</th>\n",
              "      <th>sentiment</th>\n",
              "      <th>fine</th>\n",
              "      <th>coarse</th>\n",
              "      <th>label</th>\n",
              "    </tr>\n",
              "  </thead>\n",
              "  <tbody>\n",
              "    <tr>\n",
              "      <th>3051</th>\n",
              "      <td>179802</td>\n",
              "      <td>s kind of</td>\n",
              "      <td>0.333330</td>\n",
              "      <td>negative</td>\n",
              "      <td>negative</td>\n",
              "      <td>1</td>\n",
              "    </tr>\n",
              "    <tr>\n",
              "      <th>28916</th>\n",
              "      <td>106105</td>\n",
              "      <td>here on earth</td>\n",
              "      <td>0.277780</td>\n",
              "      <td>negative</td>\n",
              "      <td>negative</td>\n",
              "      <td>1</td>\n",
              "    </tr>\n",
              "    <tr>\n",
              "      <th>2018</th>\n",
              "      <td>179607</td>\n",
              "      <td>[ ' s ' ,   ' V ' ,   ' A ' ,   ' F a i l u r ...</td>\n",
              "      <td>0.416670</td>\n",
              "      <td>neutral</td>\n",
              "      <td>neutral</td>\n",
              "      <td>2</td>\n",
              "    </tr>\n",
              "    <tr>\n",
              "      <th>19437</th>\n",
              "      <td>104511</td>\n",
              "      <td>audacious impossible</td>\n",
              "      <td>0.500000</td>\n",
              "      <td>neutral</td>\n",
              "      <td>neutral</td>\n",
              "      <td>2</td>\n",
              "    </tr>\n",
              "    <tr>\n",
              "      <th>782</th>\n",
              "      <td>60709</td>\n",
              "      <td>ll only put you to sleep</td>\n",
              "      <td>0.777780</td>\n",
              "      <td>positive</td>\n",
              "      <td>positive</td>\n",
              "      <td>3</td>\n",
              "    </tr>\n",
              "    <tr>\n",
              "      <th>3234</th>\n",
              "      <td>101754</td>\n",
              "      <td>s much too big for its britches</td>\n",
              "      <td>0.555560</td>\n",
              "      <td>neutral</td>\n",
              "      <td>neutral</td>\n",
              "      <td>2</td>\n",
              "    </tr>\n",
              "    <tr>\n",
              "      <th>3215</th>\n",
              "      <td>179842</td>\n",
              "      <td>most film thought s provoking</td>\n",
              "      <td>0.402780</td>\n",
              "      <td>neutral</td>\n",
              "      <td>neutral</td>\n",
              "      <td>2</td>\n",
              "    </tr>\n",
              "    <tr>\n",
              "      <th>4064</th>\n",
              "      <td>43318</td>\n",
              "      <td>s some centered go along with all the weird stuff</td>\n",
              "      <td>0.708330</td>\n",
              "      <td>positive</td>\n",
              "      <td>positive</td>\n",
              "      <td>3</td>\n",
              "    </tr>\n",
              "    <tr>\n",
              "      <th>6216</th>\n",
              "      <td>180377</td>\n",
              "      <td>i could feel my eyelids getting very heavy</td>\n",
              "      <td>0.180560</td>\n",
              "      <td>very negative</td>\n",
              "      <td>negative</td>\n",
              "      <td>0</td>\n",
              "    </tr>\n",
              "    <tr>\n",
              "      <th>11009</th>\n",
              "      <td>62409</td>\n",
              "      <td>while at the same time being a most touching r...</td>\n",
              "      <td>0.569440</td>\n",
              "      <td>neutral</td>\n",
              "      <td>neutral</td>\n",
              "      <td>2</td>\n",
              "    </tr>\n",
              "    <tr>\n",
              "      <th>22109</th>\n",
              "      <td>144355</td>\n",
              "      <td>chasing amy and</td>\n",
              "      <td>0.069444</td>\n",
              "      <td>very negative</td>\n",
              "      <td>negative</td>\n",
              "      <td>0</td>\n",
              "    </tr>\n",
              "    <tr>\n",
              "      <th>14338</th>\n",
              "      <td>62997</td>\n",
              "      <td>a good music documentary probably one of the b...</td>\n",
              "      <td>0.833330</td>\n",
              "      <td>very positive</td>\n",
              "      <td>positive</td>\n",
              "      <td>4</td>\n",
              "    </tr>\n",
              "    <tr>\n",
              "      <th>7541</th>\n",
              "      <td>180578</td>\n",
              "      <td>clever</td>\n",
              "      <td>0.500000</td>\n",
              "      <td>neutral</td>\n",
              "      <td>neutral</td>\n",
              "      <td>2</td>\n",
              "    </tr>\n",
              "    <tr>\n",
              "      <th>13647</th>\n",
              "      <td>103454</td>\n",
              "      <td>completely spooky piece business</td>\n",
              "      <td>0.763890</td>\n",
              "      <td>positive</td>\n",
              "      <td>positive</td>\n",
              "      <td>3</td>\n",
              "    </tr>\n",
              "    <tr>\n",
              "      <th>13036</th>\n",
              "      <td>142929</td>\n",
              "      <td>who wants to see a comedy about shoddy airport...</td>\n",
              "      <td>0.500000</td>\n",
              "      <td>neutral</td>\n",
              "      <td>neutral</td>\n",
              "      <td>2</td>\n",
              "    </tr>\n",
              "    <tr>\n",
              "      <th>17494</th>\n",
              "      <td>182249</td>\n",
              "      <td>american chai encourages rueful laughter at st...</td>\n",
              "      <td>0.527780</td>\n",
              "      <td>neutral</td>\n",
              "      <td>neutral</td>\n",
              "      <td>2</td>\n",
              "    </tr>\n",
              "    <tr>\n",
              "      <th>22201</th>\n",
              "      <td>64630</td>\n",
              "      <td>children of the century takes kurys career to ...</td>\n",
              "      <td>0.888890</td>\n",
              "      <td>very positive</td>\n",
              "      <td>positive</td>\n",
              "      <td>4</td>\n",
              "    </tr>\n",
              "    <tr>\n",
              "      <th>19477</th>\n",
              "      <td>104521</td>\n",
              "      <td>austen</td>\n",
              "      <td>0.500000</td>\n",
              "      <td>neutral</td>\n",
              "      <td>neutral</td>\n",
              "      <td>2</td>\n",
              "    </tr>\n",
              "    <tr>\n",
              "      <th>5722</th>\n",
              "      <td>3420</td>\n",
              "      <td>that would be reno</td>\n",
              "      <td>0.541670</td>\n",
              "      <td>neutral</td>\n",
              "      <td>neutral</td>\n",
              "      <td>2</td>\n",
              "    </tr>\n",
              "    <tr>\n",
              "      <th>1229</th>\n",
              "      <td>23025</td>\n",
              "      <td>s eve drunk sporting a paper party hat</td>\n",
              "      <td>0.763890</td>\n",
              "      <td>positive</td>\n",
              "      <td>positive</td>\n",
              "      <td>3</td>\n",
              "    </tr>\n",
              "  </tbody>\n",
              "</table>\n",
              "</div>"
            ],
            "text/plain": [
              "           id  ... label\n",
              "3051   179802  ...     1\n",
              "28916  106105  ...     1\n",
              "2018   179607  ...     2\n",
              "19437  104511  ...     2\n",
              "782     60709  ...     3\n",
              "3234   101754  ...     2\n",
              "3215   179842  ...     2\n",
              "4064    43318  ...     3\n",
              "6216   180377  ...     0\n",
              "11009   62409  ...     2\n",
              "22109  144355  ...     0\n",
              "14338   62997  ...     4\n",
              "7541   180578  ...     2\n",
              "13647  103454  ...     3\n",
              "13036  142929  ...     2\n",
              "17494  182249  ...     2\n",
              "22201   64630  ...     4\n",
              "19477  104521  ...     2\n",
              "5722     3420  ...     2\n",
              "1229    23025  ...     3\n",
              "\n",
              "[20 rows x 6 columns]"
            ]
          },
          "metadata": {
            "tags": []
          },
          "execution_count": 24
        }
      ]
    },
    {
      "cell_type": "code",
      "metadata": {
        "id": "SunKXg2n-1DV"
      },
      "source": [
        "# train = train.drop(columns=['id','sentiment', 'fine', 'coarse'])\n",
        "# train.reset_index(drop=True, inplace=True)\n",
        "\n",
        "# Loading the data into dataloader\n",
        "# Import Library\n",
        "\n",
        "Phrase = data.Field(tokenize='spacy',sequential = True, batch_first =True, include_lengths=True)\n",
        "Label = data.LabelField(tokenize = 'spacy', is_target=True, batch_first =True, sequential =False)\n",
        "\n",
        "Phrase.build_vocab(train)\n",
        "Label.build_vocab(train)\n",
        "\n",
        "fields = [('Phrase', Phrase),('Label',Label)]"
      ],
      "execution_count": null,
      "outputs": []
    },
    {
      "cell_type": "code",
      "metadata": {
        "id": "Yu5iZBnHwkN8",
        "colab": {
          "base_uri": "https://localhost:8080/"
        },
        "outputId": "3768e96e-c2a8-4626-934d-c04b8584aa5c"
      },
      "source": [
        "vars(Phrase.vocab)"
      ],
      "execution_count": null,
      "outputs": [
        {
          "output_type": "execute_result",
          "data": {
            "text/plain": [
              "{'freqs': Counter({'a': 2,\n",
              "          'b': 1,\n",
              "          'e': 2,\n",
              "          'h': 1,\n",
              "          'l': 2,\n",
              "          'p': 1,\n",
              "          'r': 1,\n",
              "          's': 1}),\n",
              " 'itos': ['<unk>', '<pad>', 'a', 'e', 'l', 'b', 'h', 'p', 'r', 's'],\n",
              " 'stoi': defaultdict(<function torchtext.vocab._default_unk_index>,\n",
              "             {'<pad>': 1,\n",
              "              '<unk>': 0,\n",
              "              'a': 2,\n",
              "              'b': 5,\n",
              "              'e': 3,\n",
              "              'h': 6,\n",
              "              'l': 4,\n",
              "              'p': 7,\n",
              "              'r': 8,\n",
              "              's': 9}),\n",
              " 'vectors': None}"
            ]
          },
          "metadata": {
            "tags": []
          },
          "execution_count": 41
        }
      ]
    },
    {
      "cell_type": "code",
      "metadata": {
        "id": "1mKR8BIE-1DX"
      },
      "source": [
        "example = [data.Example.fromlist([train.phrase[i],train.label[i]], fields) for i in range(train.shape[0])]"
      ],
      "execution_count": null,
      "outputs": []
    },
    {
      "cell_type": "code",
      "metadata": {
        "id": "ATLwqKG8mSMZ",
        "colab": {
          "base_uri": "https://localhost:8080/"
        },
        "outputId": "708d27d4-3914-49a9-cfc6-2cb7f697b558"
      },
      "source": [
        "vars(Phrase.vocab)"
      ],
      "execution_count": null,
      "outputs": [
        {
          "output_type": "execute_result",
          "data": {
            "text/plain": [
              "{'freqs': Counter({'a': 2,\n",
              "          'b': 1,\n",
              "          'e': 2,\n",
              "          'h': 1,\n",
              "          'l': 2,\n",
              "          'p': 1,\n",
              "          'r': 1,\n",
              "          's': 1}),\n",
              " 'itos': ['<unk>', '<pad>', 'a', 'e', 'l', 'b', 'h', 'p', 'r', 's'],\n",
              " 'stoi': defaultdict(<function torchtext.vocab._default_unk_index>,\n",
              "             {'<pad>': 1,\n",
              "              '<unk>': 0,\n",
              "              'a': 2,\n",
              "              'b': 5,\n",
              "              'e': 3,\n",
              "              'h': 6,\n",
              "              'l': 4,\n",
              "              'p': 7,\n",
              "              'r': 8,\n",
              "              's': 9}),\n",
              " 'vectors': None}"
            ]
          },
          "metadata": {
            "tags": []
          },
          "execution_count": 42
        }
      ]
    },
    {
      "cell_type": "code",
      "metadata": {
        "id": "H3g6jEdE-1Db"
      },
      "source": [
        "print('Size of input vocab : ', len(Phrase.vocab))\n",
        "print('Size of label vocab : ', len(Label.vocab))\n",
        "print('Top 10 words appreared repeatedly :', list(Phrase.vocab.freqs.most_common(10)))\n",
        "print('Labels : ', Label.vocab.stoi)"
      ],
      "execution_count": null,
      "outputs": []
    },
    {
      "cell_type": "code",
      "metadata": {
        "id": "WsRZPxdb-1Db"
      },
      "source": [
        "train_iterator, valid_iterator = data.BucketIterator.splits((train, valid), batch_size = 32, \n",
        "                                                            sort_key = lambda x: len(x.tweets),\n",
        "                                                            sort_within_batch=True, device = device)"
      ],
      "execution_count": null,
      "outputs": []
    },
    {
      "cell_type": "code",
      "metadata": {
        "id": "x5L-uo16-1Dc"
      },
      "source": [
        "# import os, pickle\n",
        "# with open('tokenizer.pkl', 'wb') as tokens: \n",
        "#     pickle.dump(Tweet.vocab.stoi, tokens)"
      ],
      "execution_count": null,
      "outputs": []
    },
    {
      "cell_type": "code",
      "metadata": {
        "id": "I3shtrtP-1Dc"
      },
      "source": [
        "import torch.nn as nn\n",
        "import torch.nn.functional as F\n",
        "\n",
        "class classifier(nn.Module):\n",
        "    \n",
        "    # Define all the layers used in model\n",
        "    def __init__(self, vocab_size, embedding_dim, hidden_dim, output_dim, n_layers, dropout):\n",
        "        \n",
        "        super().__init__()          \n",
        "        \n",
        "        # Embedding layer\n",
        "        self.embedding = nn.Embedding(vocab_size, embedding_dim)\n",
        "        \n",
        "        # LSTM layer\n",
        "        self.encoder = nn.LSTM(embedding_dim, \n",
        "                           hidden_dim, \n",
        "                           num_layers=n_layers, \n",
        "                           dropout=dropout,\n",
        "                           batch_first=True)\n",
        "        # try using nn.GRU or nn.RNN here and compare their performances\n",
        "        # try bidirectional and compare their performances\n",
        "        \n",
        "        # Dense layer\n",
        "        self.fc = nn.Linear(hidden_dim, output_dim)\n",
        "        \n",
        "    def forward(self, text, text_lengths):\n",
        "        \n",
        "        # text = [batch size, sent_length]\n",
        "        embedded = self.embedding(text)\n",
        "        # embedded = [batch size, sent_len, emb dim]\n",
        "      \n",
        "        # packed sequence\n",
        "        packed_embedded = nn.utils.rnn.pack_padded_sequence(embedded, text_lengths.cpu(), batch_first=True)\n",
        "        \n",
        "        packed_output, (hidden, cell) = self.encoder(packed_embedded)\n",
        "        #hidden = [batch size, num layers * num directions,hid dim]\n",
        "        #cell = [batch size, num layers * num directions,hid dim]\n",
        "    \n",
        "        # Hidden = [batch size, hid dim * num directions]\n",
        "        dense_outputs = self.fc(hidden)   \n",
        "        \n",
        "        # Final activation function softmax\n",
        "        output = F.softmax(dense_outputs[0], dim=1)\n",
        "            \n",
        "        return output"
      ],
      "execution_count": null,
      "outputs": []
    },
    {
      "cell_type": "code",
      "metadata": {
        "id": "FURmcIPR-1Dc"
      },
      "source": [
        "# Define hyperparameters\n",
        "size_of_vocab = len(Tweet.vocab)\n",
        "embedding_dim = 300\n",
        "num_hidden_nodes = 100\n",
        "num_output_nodes = 3\n",
        "num_layers = 2\n",
        "dropout = 0.2\n",
        "\n",
        "# Instantiate the model\n",
        "model = classifier(size_of_vocab, embedding_dim, num_hidden_nodes, num_output_nodes, num_layers, dropout = dropout)"
      ],
      "execution_count": null,
      "outputs": []
    },
    {
      "cell_type": "code",
      "metadata": {
        "id": "RD2Ul-ey-1Dd"
      },
      "source": [
        "print(model)\n",
        "\n",
        "#No. of trianable parameters\n",
        "def count_parameters(model):\n",
        "    return sum(p.numel() for p in model.parameters() if p.requires_grad)\n",
        "    \n",
        "print(f'The model has {count_parameters(model):,} trainable parameters')"
      ],
      "execution_count": null,
      "outputs": []
    },
    {
      "cell_type": "code",
      "metadata": {
        "id": "q6Z19KNt-1Dd"
      },
      "source": [
        "import torch.optim as optim\n",
        "\n",
        "# define optimizer and loss\n",
        "optimizer = optim.Adam(model.parameters(), lr=2e-4)\n",
        "criterion = nn.CrossEntropyLoss()\n",
        "\n",
        "# define metric\n",
        "def binary_accuracy(preds, y):\n",
        "    #round predictions to the closest integer\n",
        "    _, predictions = torch.max(preds, 1)\n",
        "    \n",
        "    correct = (predictions == y).float() \n",
        "    acc = correct.sum() / len(correct)\n",
        "    return acc\n",
        "    \n",
        "# push to cuda if available\n",
        "model = model.to(device)\n",
        "criterion = criterion.to(device)"
      ],
      "execution_count": null,
      "outputs": []
    },
    {
      "cell_type": "code",
      "metadata": {
        "id": "D9pfEJZV-1De"
      },
      "source": [
        "def train(model, iterator, optimizer, criterion):\n",
        "    \n",
        "    # initialize every epoch \n",
        "    epoch_loss = 0\n",
        "    epoch_acc = 0\n",
        "    \n",
        "    # set the model in training phase\n",
        "    model.train()  \n",
        "    \n",
        "    for batch in iterator:\n",
        "        \n",
        "        # resets the gradients after every batch\n",
        "        optimizer.zero_grad()   \n",
        "        \n",
        "        # retrieve text and no. of words\n",
        "        tweet, tweet_lengths = batch.tweets   \n",
        "        \n",
        "        # convert to 1D tensor\n",
        "        predictions = model(tweet, tweet_lengths).squeeze()  \n",
        "        \n",
        "        # compute the loss\n",
        "        loss = criterion(predictions, batch.labels)        \n",
        "        \n",
        "        # compute the binary accuracy\n",
        "        acc = binary_accuracy(predictions, batch.labels)   \n",
        "        \n",
        "        # backpropage the loss and compute the gradients\n",
        "        loss.backward()       \n",
        "        \n",
        "        # update the weights\n",
        "        optimizer.step()      \n",
        "        \n",
        "        # loss and accuracy\n",
        "        epoch_loss += loss.item()  \n",
        "        epoch_acc += acc.item()    \n",
        "        \n",
        "    return epoch_loss / len(iterator), epoch_acc / len(iterator)"
      ],
      "execution_count": null,
      "outputs": []
    },
    {
      "cell_type": "code",
      "metadata": {
        "id": "5iOQByYJ-1Df"
      },
      "source": [
        "def evaluate(model, iterator, criterion):\n",
        "    \n",
        "    # initialize every epoch\n",
        "    epoch_loss = 0\n",
        "    epoch_acc = 0\n",
        "\n",
        "    # deactivating dropout layers\n",
        "    model.eval()\n",
        "    \n",
        "    # deactivates autograd\n",
        "    with torch.no_grad():\n",
        "    \n",
        "        for batch in iterator:\n",
        "        \n",
        "            # retrieve text and no. of words\n",
        "            tweet, tweet_lengths = batch.tweets\n",
        "            \n",
        "            # convert to 1d tensor\n",
        "            predictions = model(tweet, tweet_lengths).squeeze()\n",
        "            \n",
        "            # compute loss and accuracy\n",
        "            loss = criterion(predictions, batch.labels)\n",
        "            acc = binary_accuracy(predictions, batch.labels)\n",
        "            \n",
        "            # keep track of loss and accuracy\n",
        "            epoch_loss += loss.item()\n",
        "            epoch_acc += acc.item()\n",
        "        \n",
        "    return epoch_loss / len(iterator), epoch_acc / len(iterator)"
      ],
      "execution_count": null,
      "outputs": []
    },
    {
      "cell_type": "code",
      "metadata": {
        "id": "5wTFSpYP-1Df"
      },
      "source": [
        "N_EPOCHS = 10\n",
        "best_valid_loss = float('inf')\n",
        "\n",
        "for epoch in range(N_EPOCHS):\n",
        "     \n",
        "    # train the model\n",
        "    train_loss, train_acc = train(model, train_iterator, optimizer, criterion)\n",
        "    \n",
        "    # evaluate the model\n",
        "    valid_loss, valid_acc = evaluate(model, valid_iterator, criterion)\n",
        "    \n",
        "    # save the best model\n",
        "    if valid_loss < best_valid_loss:\n",
        "        best_valid_loss = valid_loss\n",
        "        torch.save(model.state_dict(), 'saved_weights.pt')\n",
        "    \n",
        "    print(f'\\tTrain Loss: {train_loss:.3f} | Train Acc: {train_acc*100:.2f}%')\n",
        "    print(f'\\t Val. Loss: {valid_loss:.3f} |  Val. Acc: {valid_acc*100:.2f}% \\n')"
      ],
      "execution_count": null,
      "outputs": []
    },
    {
      "cell_type": "code",
      "metadata": {
        "id": "nWGz9yXx-1Df"
      },
      "source": [
        "#load weights and tokenizer\n",
        "\n",
        "path='./saved_weights.pt'\n",
        "model.load_state_dict(torch.load(path));\n",
        "model.eval();\n",
        "tokenizer_file = open('./tokenizer.pkl', 'rb')\n",
        "tokenizer = pickle.load(tokenizer_file)\n",
        "\n",
        "#inference \n",
        "\n",
        "import spacy\n",
        "nlp = spacy.load('en')\n",
        "\n",
        "def classify_tweet(tweet):\n",
        "    \n",
        "    categories = {0: \"Negative\", 1:\"Positive\", 2:\"Neutral\"}\n",
        "    \n",
        "    # tokenize the tweet \n",
        "    tokenized = [tok.text for tok in nlp.tokenizer(tweet)] \n",
        "    # convert to integer sequence using predefined tokenizer dictionary\n",
        "    indexed = [tokenizer[t] for t in tokenized]        \n",
        "    # compute no. of words        \n",
        "    length = [len(indexed)]\n",
        "    # convert to tensor                                    \n",
        "    tensor = torch.LongTensor(indexed).to(device)   \n",
        "    # reshape in form of batch, no. of words           \n",
        "    tensor = tensor.unsqueeze(1).T  \n",
        "    # convert to tensor                          \n",
        "    length_tensor = torch.LongTensor(length)\n",
        "    # Get the model prediction                  \n",
        "    prediction = model(tensor, length_tensor)\n",
        "\n",
        "    _, pred = torch.max(prediction, 1) \n",
        "    \n",
        "    return categories[pred.item()]"
      ],
      "execution_count": null,
      "outputs": []
    },
    {
      "cell_type": "code",
      "metadata": {
        "id": "3UjV1Hld-1Dg"
      },
      "source": [
        "def random_insertion(sentence, n): \n",
        "    words = remove_stopwords(sentence) \n",
        "    for _ in range(n):\n",
        "        new_synonym = get_synonyms(random.choice(words))\n",
        "        sentence.insert(randrange(len(sentence)+1), new_synonym) \n",
        "    return sentence"
      ],
      "execution_count": null,
      "outputs": []
    },
    {
      "cell_type": "code",
      "metadata": {
        "id": "UztjbxZP-1Dg"
      },
      "source": [
        "def random_deletion(words, p=0.5): \n",
        "    if len(words) == 1: # return if single word\n",
        "        return words\n",
        "    remaining = list(filter(lambda x: random.uniform(0,1) > p,words)) \n",
        "    if len(remaining) == 0: # if not left, sample a random word\n",
        "        return [random.choice(words)] \n",
        "    else:\n",
        "        return remaining"
      ],
      "execution_count": null,
      "outputs": []
    },
    {
      "cell_type": "code",
      "metadata": {
        "id": "7c9kFItO-1Dh"
      },
      "source": [
        "def random_swap(sentence, n=5): \n",
        "    length = range(len(sentence)) \n",
        "    for _ in range(n):\n",
        "        idx1, idx2 = random.sample(length, 2)\n",
        "        sentence[idx1], sentence[idx2] = sentence[idx2], sentence[idx1] \n",
        "    return sentence"
      ],
      "execution_count": null,
      "outputs": []
    }
  ]
}