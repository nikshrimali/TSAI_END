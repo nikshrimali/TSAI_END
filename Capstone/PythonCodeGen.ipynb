{
  "nbformat": 4,
  "nbformat_minor": 0,
  "metadata": {
    "colab": {
      "name": "PythonCodeGen.ipynb",
      "provenance": [],
      "collapsed_sections": [],
      "toc_visible": true,
      "mount_file_id": "1jyoTepmxeE15FmAJkiv7F-Kyvjvsj--p",
      "authorship_tag": "ABX9TyO3/XhtVD51QgwmXltvdvF1",
      "include_colab_link": true
    },
    "kernelspec": {
      "name": "python3",
      "display_name": "Python 3"
    },
    "accelerator": "GPU"
  },
  "cells": [
    {
      "cell_type": "markdown",
      "metadata": {
        "id": "view-in-github",
        "colab_type": "text"
      },
      "source": [
        "<a href=\"https://colab.research.google.com/github/nikshrimali/TSAI_END/blob/main/Capstone/PythonCodeGen.ipynb\" target=\"_parent\"><img src=\"https://colab.research.google.com/assets/colab-badge.svg\" alt=\"Open In Colab\"/></a>"
      ]
    },
    {
      "cell_type": "code",
      "metadata": {
        "colab": {
          "base_uri": "https://localhost:8080/",
          "height": 544
        },
        "id": "1N5zfosxg864",
        "outputId": "188387ca-67c3-47ed-aaf9-4d798367b290"
      },
      "source": [
        "!pip install torchtext==0.8.1"
      ],
      "execution_count": 2,
      "outputs": [
        {
          "output_type": "stream",
          "text": [
            "Collecting torchtext==0.8.1\n",
            "\u001b[?25l  Downloading https://files.pythonhosted.org/packages/13/80/046f0691b296e755ae884df3ca98033cb9afcaf287603b2b7999e94640b8/torchtext-0.8.1-cp37-cp37m-manylinux1_x86_64.whl (7.0MB)\n",
            "\u001b[K     |████████████████████████████████| 7.0MB 5.8MB/s \n",
            "\u001b[?25hRequirement already satisfied: requests in /usr/local/lib/python3.7/dist-packages (from torchtext==0.8.1) (2.23.0)\n",
            "Requirement already satisfied: tqdm in /usr/local/lib/python3.7/dist-packages (from torchtext==0.8.1) (4.41.1)\n",
            "Requirement already satisfied: numpy in /usr/local/lib/python3.7/dist-packages (from torchtext==0.8.1) (1.19.5)\n",
            "Collecting torch==1.7.1\n",
            "\u001b[?25l  Downloading https://files.pythonhosted.org/packages/90/5d/095ddddc91c8a769a68c791c019c5793f9c4456a688ddd235d6670924ecb/torch-1.7.1-cp37-cp37m-manylinux1_x86_64.whl (776.8MB)\n",
            "\u001b[K     |████████████████████████████████| 776.8MB 24kB/s \n",
            "\u001b[?25hRequirement already satisfied: idna<3,>=2.5 in /usr/local/lib/python3.7/dist-packages (from requests->torchtext==0.8.1) (2.10)\n",
            "Requirement already satisfied: chardet<4,>=3.0.2 in /usr/local/lib/python3.7/dist-packages (from requests->torchtext==0.8.1) (3.0.4)\n",
            "Requirement already satisfied: certifi>=2017.4.17 in /usr/local/lib/python3.7/dist-packages (from requests->torchtext==0.8.1) (2020.12.5)\n",
            "Requirement already satisfied: urllib3!=1.25.0,!=1.25.1,<1.26,>=1.21.1 in /usr/local/lib/python3.7/dist-packages (from requests->torchtext==0.8.1) (1.24.3)\n",
            "Requirement already satisfied: typing-extensions in /usr/local/lib/python3.7/dist-packages (from torch==1.7.1->torchtext==0.8.1) (3.7.4.3)\n",
            "\u001b[31mERROR: torchvision 0.9.0+cu101 has requirement torch==1.8.0, but you'll have torch 1.7.1 which is incompatible.\u001b[0m\n",
            "Installing collected packages: torch, torchtext\n",
            "  Found existing installation: torch 1.8.0+cu101\n",
            "    Uninstalling torch-1.8.0+cu101:\n",
            "      Successfully uninstalled torch-1.8.0+cu101\n",
            "  Found existing installation: torchtext 0.9.0\n",
            "    Uninstalling torchtext-0.9.0:\n",
            "      Successfully uninstalled torchtext-0.9.0\n",
            "Successfully installed torch-1.7.1 torchtext-0.8.1\n"
          ],
          "name": "stdout"
        },
        {
          "output_type": "display_data",
          "data": {
            "application/vnd.colab-display-data+json": {
              "pip_warning": {
                "packages": [
                  "torch",
                  "torchtext"
                ]
              }
            }
          },
          "metadata": {
            "tags": []
          }
        }
      ]
    },
    {
      "cell_type": "code",
      "metadata": {
        "colab": {
          "base_uri": "https://localhost:8080/"
        },
        "id": "pbZwswF2sCr3",
        "outputId": "871f0199-ea2a-4131-d058-8fa73ddd1ea2"
      },
      "source": [
        "# Importing torch and essential libraries\r\n",
        "import torch\r\n",
        "import torch.nn as nn\r\n",
        "import torch.optim as optim\r\n",
        "import torch.nn.functional as F\r\n",
        "from torchtext.data import Field, BucketIterator, TabularDataset\r\n",
        "\r\n",
        "\r\n",
        "device = torch.device('cuda' if torch.cuda.is_available() else 'cpu')\r\n",
        "print(f'Currently running on {device}')\r\n",
        "\r\n",
        "import spacy\r\n",
        "spacy_en = spacy.load('en')\r\n",
        "\r\n",
        "import numpy as np\r\n",
        "import pandas as pd\r\n",
        "import os\r\n",
        "import random\r\n",
        "import math\r\n",
        "import time\r\n",
        "import json\r\n",
        "import random\r\n",
        "\r\n",
        "import logging\r\n",
        "logging.basicConfig(level=logging.INFO, format='%(asctime)s : %(levelname)s : %(message)s')\r\n",
        "logger = logging.getLogger('PythonCodeGen')\r\n",
        "\r\n"
      ],
      "execution_count": 1,
      "outputs": [
        {
          "output_type": "stream",
          "text": [
            "Currently running on cuda\n"
          ],
          "name": "stdout"
        }
      ]
    },
    {
      "cell_type": "code",
      "metadata": {
        "colab": {
          "base_uri": "https://localhost:8080/"
        },
        "id": "suKdqHMFt9pK",
        "outputId": "1b1a377c-d5a7-400c-90fa-13e3ca5ff7d8"
      },
      "source": [
        "# Spacy model for \r\n",
        "!python -m spacy download en"
      ],
      "execution_count": 3,
      "outputs": [
        {
          "output_type": "stream",
          "text": [
            "Requirement already satisfied: en_core_web_sm==2.2.5 from https://github.com/explosion/spacy-models/releases/download/en_core_web_sm-2.2.5/en_core_web_sm-2.2.5.tar.gz#egg=en_core_web_sm==2.2.5 in /usr/local/lib/python3.7/dist-packages (2.2.5)\n",
            "Requirement already satisfied: spacy>=2.2.2 in /usr/local/lib/python3.7/dist-packages (from en_core_web_sm==2.2.5) (2.2.4)\n",
            "Requirement already satisfied: srsly<1.1.0,>=1.0.2 in /usr/local/lib/python3.7/dist-packages (from spacy>=2.2.2->en_core_web_sm==2.2.5) (1.0.5)\n",
            "Requirement already satisfied: blis<0.5.0,>=0.4.0 in /usr/local/lib/python3.7/dist-packages (from spacy>=2.2.2->en_core_web_sm==2.2.5) (0.4.1)\n",
            "Requirement already satisfied: catalogue<1.1.0,>=0.0.7 in /usr/local/lib/python3.7/dist-packages (from spacy>=2.2.2->en_core_web_sm==2.2.5) (1.0.0)\n",
            "Requirement already satisfied: plac<1.2.0,>=0.9.6 in /usr/local/lib/python3.7/dist-packages (from spacy>=2.2.2->en_core_web_sm==2.2.5) (1.1.3)\n",
            "Requirement already satisfied: wasabi<1.1.0,>=0.4.0 in /usr/local/lib/python3.7/dist-packages (from spacy>=2.2.2->en_core_web_sm==2.2.5) (0.8.2)\n",
            "Requirement already satisfied: cymem<2.1.0,>=2.0.2 in /usr/local/lib/python3.7/dist-packages (from spacy>=2.2.2->en_core_web_sm==2.2.5) (2.0.5)\n",
            "Requirement already satisfied: numpy>=1.15.0 in /usr/local/lib/python3.7/dist-packages (from spacy>=2.2.2->en_core_web_sm==2.2.5) (1.19.5)\n",
            "Requirement already satisfied: preshed<3.1.0,>=3.0.2 in /usr/local/lib/python3.7/dist-packages (from spacy>=2.2.2->en_core_web_sm==2.2.5) (3.0.5)\n",
            "Requirement already satisfied: requests<3.0.0,>=2.13.0 in /usr/local/lib/python3.7/dist-packages (from spacy>=2.2.2->en_core_web_sm==2.2.5) (2.23.0)\n",
            "Requirement already satisfied: thinc==7.4.0 in /usr/local/lib/python3.7/dist-packages (from spacy>=2.2.2->en_core_web_sm==2.2.5) (7.4.0)\n",
            "Requirement already satisfied: tqdm<5.0.0,>=4.38.0 in /usr/local/lib/python3.7/dist-packages (from spacy>=2.2.2->en_core_web_sm==2.2.5) (4.41.1)\n",
            "Requirement already satisfied: murmurhash<1.1.0,>=0.28.0 in /usr/local/lib/python3.7/dist-packages (from spacy>=2.2.2->en_core_web_sm==2.2.5) (1.0.5)\n",
            "Requirement already satisfied: setuptools in /usr/local/lib/python3.7/dist-packages (from spacy>=2.2.2->en_core_web_sm==2.2.5) (54.0.0)\n",
            "Requirement already satisfied: importlib-metadata>=0.20; python_version < \"3.8\" in /usr/local/lib/python3.7/dist-packages (from catalogue<1.1.0,>=0.0.7->spacy>=2.2.2->en_core_web_sm==2.2.5) (3.7.0)\n",
            "Requirement already satisfied: idna<3,>=2.5 in /usr/local/lib/python3.7/dist-packages (from requests<3.0.0,>=2.13.0->spacy>=2.2.2->en_core_web_sm==2.2.5) (2.10)\n",
            "Requirement already satisfied: chardet<4,>=3.0.2 in /usr/local/lib/python3.7/dist-packages (from requests<3.0.0,>=2.13.0->spacy>=2.2.2->en_core_web_sm==2.2.5) (3.0.4)\n",
            "Requirement already satisfied: urllib3!=1.25.0,!=1.25.1,<1.26,>=1.21.1 in /usr/local/lib/python3.7/dist-packages (from requests<3.0.0,>=2.13.0->spacy>=2.2.2->en_core_web_sm==2.2.5) (1.24.3)\n",
            "Requirement already satisfied: certifi>=2017.4.17 in /usr/local/lib/python3.7/dist-packages (from requests<3.0.0,>=2.13.0->spacy>=2.2.2->en_core_web_sm==2.2.5) (2020.12.5)\n",
            "Requirement already satisfied: zipp>=0.5 in /usr/local/lib/python3.7/dist-packages (from importlib-metadata>=0.20; python_version < \"3.8\"->catalogue<1.1.0,>=0.0.7->spacy>=2.2.2->en_core_web_sm==2.2.5) (3.4.1)\n",
            "Requirement already satisfied: typing-extensions>=3.6.4; python_version < \"3.8\" in /usr/local/lib/python3.7/dist-packages (from importlib-metadata>=0.20; python_version < \"3.8\"->catalogue<1.1.0,>=0.0.7->spacy>=2.2.2->en_core_web_sm==2.2.5) (3.7.4.3)\n",
            "\u001b[38;5;2m✔ Download and installation successful\u001b[0m\n",
            "You can now load the model via spacy.load('en_core_web_sm')\n",
            "\u001b[38;5;2m✔ Linking successful\u001b[0m\n",
            "/usr/local/lib/python3.7/dist-packages/en_core_web_sm -->\n",
            "/usr/local/lib/python3.7/dist-packages/spacy/data/en\n",
            "You can now load the model via spacy.load('en')\n"
          ],
          "name": "stdout"
        }
      ]
    },
    {
      "cell_type": "markdown",
      "metadata": {
        "id": "odYtT1nkusRX"
      },
      "source": [
        "Now to set the results in a processable format, we will set the random seed values, Please note that the random seed values only gaurantee results in same runtime, results may vary after runtime is refreshed, to know more about refreshing runtimes, you can refer this artcicle"
      ]
    },
    {
      "cell_type": "code",
      "metadata": {
        "id": "_O7QIGUsupiD"
      },
      "source": [
        "SEED = 1234\r\n",
        "random.seed(SEED)\r\n",
        "np.random.seed(SEED)\r\n",
        "torch.manual_seed(SEED)\r\n",
        "torch.cuda.manual_seed(SEED)\r\n",
        "torch.backends.cudnn.deterministic = True"
      ],
      "execution_count": 4,
      "outputs": []
    },
    {
      "cell_type": "markdown",
      "metadata": {
        "id": "KVzLmykOvUwf"
      },
      "source": [
        "The below function helps us to tokenize the text we input"
      ]
    },
    {
      "cell_type": "code",
      "metadata": {
        "id": "oigbRZsqvNQc"
      },
      "source": [
        "def tokenize_en(text):\r\n",
        "  return [tok.text for tok in spacy_en.tokenizer(text)]"
      ],
      "execution_count": 5,
      "outputs": []
    },
    {
      "cell_type": "code",
      "metadata": {
        "id": "zhHTjVpimmQN"
      },
      "source": [
        "# Divide the data into statement and code format\r\n",
        "\r\n",
        "datasets = [[]]\r\n",
        "file_name = '/content/drive/MyDrive/english_python_data_cleaned.txt'\r\n",
        "\r\n",
        "with open(file_name) as f:\r\n",
        "  #my_dict = {\"description\":[],\"code\":[]}\r\n",
        "  for line in f:\r\n",
        "    if line.startswith('#'):\r\n",
        "      comment = line.split('\\n#')\r\n",
        "      if datasets[-1] != []:\r\n",
        "        # we are in a new block\r\n",
        "        datasets.append(comment)\r\n",
        "    else:\r\n",
        "      stripped_line = line#.strip()\r\n",
        "      if stripped_line:\r\n",
        "        datasets[-1].append(stripped_line)"
      ],
      "execution_count": null,
      "outputs": []
    },
    {
      "cell_type": "code",
      "metadata": {
        "id": "1LBenSjHPFzP"
      },
      "source": [
        "STAT = Field(tokenize= tokenize_en, \r\n",
        "            init_token='<sos>', \r\n",
        "            eos_token='<eos>', \r\n",
        "            lower=True,\r\n",
        "            batch_first = True)\r\n",
        "\r\n",
        "CODE = Field(tokenize = tokenize_en, \r\n",
        "            init_token='<sos>', \r\n",
        "            eos_token='<eos>', \r\n",
        "            lower=True,\r\n",
        "            batch_first = True)"
      ],
      "execution_count": null,
      "outputs": []
    },
    {
      "cell_type": "code",
      "metadata": {
        "id": "otg8buWYfW_i"
      },
      "source": [
        "# Remove all the comments and the multi-line strings\r\n",
        "def apply_transforms(text):\r\n",
        "    '''Applies regex transforms on the data by removing comments and normalizing\r\n",
        "    new lines and whitespaces'''\r\n",
        "    text = str(text)\r\n",
        "    text = re.sub(r'#.*?\\\\n','', text) # Removed all the comments\r\n",
        "    text = text.replace(' ', ' ws ') # Replace whitespace with ' ws ' \r\n",
        "    text = text.replace(\"\\\\n\", \" nl \") # Replace \\n with ' nl '\r\n",
        "    return text\r\n"
      ],
      "execution_count": null,
      "outputs": []
    },
    {
      "cell_type": "code",
      "metadata": {
        "id": "2LjloL6RQPZz"
      },
      "source": [
        "STAT.build_vocab(train_data, min_freq=2)\r\n",
        "CODE.build_vocab(, min_freq=2)"
      ],
      "execution_count": null,
      "outputs": []
    },
    {
      "cell_type": "markdown",
      "metadata": {
        "id": "_lvC7mV9RVYr"
      },
      "source": [
        "After building a vocab, next step is creating a bucket iterator. A bucket iterator helps us to batch together sentence of similar lengths. "
      ]
    },
    {
      "cell_type": "code",
      "metadata": {
        "id": "uzN7FUR7RUuc"
      },
      "source": [
        "BATCH_SIZE = 128\r\n",
        "\r\n",
        "train_iterator, valid_iterator, test_iterator = BucketIterator.splits(\r\n",
        "    (train_data, valid_data, test_data),\r\n",
        "    batch_size = BATCH_SIZE,\r\n",
        "    device = device\r\n",
        ")"
      ],
      "execution_count": null,
      "outputs": []
    },
    {
      "cell_type": "code",
      "metadata": {
        "id": "yXAUKN0FYQEF"
      },
      "source": [
        "class Encoder(nn.Module):\r\n",
        "    def __init__(self,\r\n",
        "                 input_dim,\r\n",
        "                 hid_dim,\r\n",
        "                 n_Layers,\r\n",
        "                 n_heads,\r\n",
        "                 pf_dim,\r\n",
        "                 dropout,\r\n",
        "                 device,\r\n",
        "                 max_length = 100):\r\n",
        "\r\n",
        "        \r\n",
        "        super().__init__()\r\n",
        "\r\n",
        "        self.device = device\r\n",
        "\r\n",
        "        # below we are breaking down the embedding into input and positional embedding\r\n",
        "        self.tok_embd = nn.Embedding(num_embeddings=input_dim, embedding_dim=hid_dim)\r\n",
        "        self.pos_embd = nn.Embedding(max_length, hid_dim)\r\n",
        "\r\n",
        "        # We also add layers for multi-headed processing\r\n",
        "\r\n",
        "        self.layers = nn.ModuleList([EncoderLayer(hid_dim,\r\n",
        "                                                  pf_dim,\r\n",
        "                                                  n_heads,\r\n",
        "                                                  dropout,\r\n",
        "                                                  device)\r\n",
        "                                    for _ in range(n_Layers)])\r\n",
        "\r\n",
        "        # When we add two embeddings, we multiply our embeddings with a scale parameter, which helps us to maintain\r\n",
        "        # our values in a certain range\r\n",
        "\r\n",
        "        self.scale = torch.sqrt(torch.FloatTensor([hid_dim])).to(device)\r\n",
        "\r\n",
        "        # Creating linear layer to reduce the dimension of the vector\r\n",
        "\r\n",
        "\r\n",
        "        # We also add a dropout value for regularization\r\n",
        "\r\n",
        "        self.dropout = nn.Dropout(dropout)\r\n",
        "\r\n",
        "    \r\n",
        "    def forward(self, input_src, src_mask):\r\n",
        "\r\n",
        "        # input_src = [batch_size, src_len]\r\n",
        "        batch_size = input_src.shape[0]\r\n",
        "        src_len = input_src.shape[1]\r\n",
        "\r\n",
        "        # Is src_len same in all the cases?\r\n",
        "\r\n",
        "        pos = torch.arange(0, src_len).unsqueeze(0).repeat(batch_size,1).to(self.device)\r\n",
        "        # print(f'Pos shape {pos.shape}, {input_src.shape}')\r\n",
        "        #pos = [batch_size, src_len]\r\n",
        "\r\n",
        "        input_embd = self.tok_embd(input_src)\r\n",
        "        pos_embd = self.pos_embd(pos)\r\n",
        "\r\n",
        "        # input_embd = pos_embd = [batch_size, src_len, embedding_dim]\r\n",
        "        src = self.dropout(input_embd*self.scale + pos_embd)\r\n",
        "        # src = [batch_size, src_len, hid_dim]\r\n",
        "\r\n",
        "        # what does encoder returns?\r\n",
        "        # \r\n",
        "        for layer in self.layers:\r\n",
        "            src = layer(src, src_mask)\r\n",
        "\r\n",
        "        return src\r\n"
      ],
      "execution_count": null,
      "outputs": []
    },
    {
      "cell_type": "markdown",
      "metadata": {
        "id": "vjfARyA7rXT1"
      },
      "source": [
        "Encoder Layer -  This layer creates the multiple encoder layer which consists of Pointwise Feed forward and multi-headed attention networks, the code is mentioned below. This layer basically calls attention layer  and pointwise layers and also applies a norm to their outputs"
      ]
    },
    {
      "cell_type": "code",
      "metadata": {
        "id": "7LQ2d_O4rpGL"
      },
      "source": [
        "class EncoderLayer(nn.Module):\r\n",
        "    def __init__(self,\r\n",
        "                 hid_dim,\r\n",
        "                 pf_dim,\r\n",
        "                 n_heads,\r\n",
        "                 dropout,\r\n",
        "                 device):\r\n",
        "        \r\n",
        "        super().__init__()\r\n",
        "        self.self_attn_layer_norm = nn.LayerNorm(hid_dim) # Layer norm after attention layer\r\n",
        "        self.self_ff_layer_norm = nn.LayerNorm(hid_dim) # Layer norm after feed forward layer\r\n",
        "        self.self_attention = MultiHeadAttention(hid_dim, n_heads, dropout, device) # Multi-head attention layer\r\n",
        "        self.positionwise_feedforward = PositionwiseFeedforwardLayer(hid_dim, pf_dim, dropout)\r\n",
        "        self.dropout = nn.Dropout(dropout) \r\n",
        "    \r\n",
        "    def forward(self, src, src_mask):\r\n",
        "        # what is src mask?????\r\n",
        "        # src = [batch_size, src_len, hid_dim]\r\n",
        "        # Why source has the hidden dim?\r\n",
        "        # src_mask = [batch_size, 1, 1, src_len]\r\n",
        "        \r\n",
        "        _src, _ = self.self_attention(src, src, src, src_mask) # Self attention layer\r\n",
        "        src = self.self_attn_layer_norm(self.dropout(_src) + src) # Add and Norm layer with residual connection\r\n",
        "\r\n",
        "        # src = [batch_size, src_len, hid_dim]\r\n",
        "        # Pointwise feedforward\r\n",
        "        _src = self.positionwise_feedforward(src)\r\n",
        "        src = self.self_ff_layer_norm(self.dropout(_src) + src)\r\n",
        "        # src = [batch_size, src len, hid_dim]\r\n",
        "        return src"
      ],
      "execution_count": null,
      "outputs": []
    },
    {
      "cell_type": "markdown",
      "metadata": {
        "id": "GO-jB2-60SyR"
      },
      "source": [
        "![](https://raw.githubusercontent.com/bentrevett/pytorch-seq2seq/9479fcb532214ad26fd4bda9fcf081a05e1aaf4e/assets/transformer-attention.png)\r\n",
        "\r\n",
        "## Scaled Dot-product attention - \r\n",
        "\r\n",
        "In scaled dot product attention query and key via matrix multiplication, after this the output is scaled, masked and softmax is applied to it. This attenion is then multiplied with the value to get contextual information.\r\n",
        "\r\n",
        "## Multi-Head Attention\r\n",
        "Why we call it as multi-head is it takes data into 3 forms Key, Query and the Value. Doing a matrix multiplication of Key with Query gives us attention values, these attention values are then multiplied by the Value which gives us contextualized embeddings.\r\n",
        "\r\n",
        "Each embedding is divided into certain heads (which is also knows as n-heads), the total hid dim are divided into n-heads, these n-heads then act as the channels which contains relevant info.\r\n"
      ]
    },
    {
      "cell_type": "code",
      "metadata": {
        "id": "oiSBwgfc0i2s"
      },
      "source": [
        "class MultiHeadAttention(nn.Module):\r\n",
        "    def __init__(self,\r\n",
        "                 hid_dim,\r\n",
        "                 n_heads,\r\n",
        "                 dropout,\r\n",
        "                 device):\r\n",
        "        \r\n",
        "        super().__init__()\r\n",
        "        self.hid_dim = hid_dim\r\n",
        "        self.n_heads = n_heads\r\n",
        "        self.head_dim = hid_dim//n_heads\r\n",
        "\r\n",
        "        self.fc_q = nn.Linear(hid_dim, hid_dim)\r\n",
        "        self.fc_k = nn.Linear(hid_dim, hid_dim)\r\n",
        "        self.fc_v = nn.Linear(hid_dim, hid_dim)\r\n",
        "\r\n",
        "        self.fc_o = nn.Linear(hid_dim, hid_dim)\r\n",
        "        \r\n",
        "        self.dropout = nn.Dropout(dropout)\r\n",
        "        self.scale = torch.sqrt(torch.FloatTensor([self.head_dim])).to(device)\r\n",
        "    \r\n",
        "    def forward(self, query, key, value, mask=None):\r\n",
        "\r\n",
        "        batch_size = query.shape[0]\r\n",
        "        # query = [batch size, query_len, hid_dim]\r\n",
        "        # key = [batch size, key_len, hid_dim]\r\n",
        "        # value = [batch size, value_len, hid_dim]\r\n",
        "\r\n",
        "        Q = self.fc_q(query)\r\n",
        "        K = self.fc_k(key)\r\n",
        "        V = self.fc_v(value)\r\n",
        "\r\n",
        "        # Q = [batch size, query_len, hid_dim]\r\n",
        "        # K = [batch size, key_len, hid_dim]\r\n",
        "        # V = [batch size, value_len, hid_dim]\r\n",
        "\r\n",
        "        # How hid_dim is divided into n_heads, head_dim?\r\n",
        "        # print('Attention batch, heads, head_dim', batch_size, -1, self.n_heads, self.head_dim)\r\n",
        "\r\n",
        "        Q = Q.view(batch_size, -1, self.n_heads, self.head_dim).permute(0, 2, 1, 3)\r\n",
        "        K = K.view(batch_size, -1, self.n_heads, self.head_dim).permute(0, 2, 1, 3)\r\n",
        "        V = V.view(batch_size, -1, self.n_heads, self.head_dim).permute(0, 2, 1, 3)\r\n",
        "\r\n",
        "        # Q=K=V = [batch_size, n_heads, query/key/value_len, head_dim]\r\n",
        "\r\n",
        "        # Transposing the input embedding and then doing matrix multiplication\r\n",
        "\r\n",
        "        # [batch_size, src_len, src_len]\r\n",
        "        energy = torch.matmul(Q, K.permute(0, 1, 3, 2))/ self.scale\r\n",
        "        # print('Shape of energy', energy.shape)\r\n",
        "        # energy = [batch_size, n_heads, query_len, key_length]\r\n",
        "        # As you can notice the head dim is not there in the energy vector. only query_len and key_len are there\r\n",
        "\r\n",
        "        # This energy is then multiplied with the value to calculate attention\r\n",
        "\r\n",
        "        if mask is not None:\r\n",
        "            # If mask values are close to zero, set it to very small values, we do this because?\r\n",
        "            energy = energy.masked_fill(mask == 0, -1e10)\r\n",
        "\r\n",
        "        # After matrix mul of query and key, and scaling we will apply softmax to get the output in a distribution of 0 to +1.\r\n",
        "        # This value will act as an attention vector for us\r\n",
        "\r\n",
        "        attention = torch.softmax(energy, dim=-1)\r\n",
        "\r\n",
        "        # Attention is then further multiplied by the values to get the contextual embeddings\r\n",
        "\r\n",
        "        x = torch.matmul(self.dropout(attention), V)\r\n",
        "\r\n",
        "        #x = [batch_size, query_length, n_heads, hid_dim]\r\n",
        "\r\n",
        "        x = x.permute(0, 2, 1, 3).contiguous()\r\n",
        "        #x = [batch_size, n_heads, query_length, hid_dim]\r\n",
        "\r\n",
        "        x = x.view(batch_size, -1, self.hid_dim)\r\n",
        "\r\n",
        "        #x = [batch_size, query_len, hid_dim]\r\n",
        "\r\n",
        "        x = self.fc_o(x)\r\n",
        "\r\n",
        "        #x = [batch_size, query_len, hid_dim]\r\n",
        "\r\n",
        "        return x, attention"
      ],
      "execution_count": null,
      "outputs": []
    },
    {
      "cell_type": "code",
      "metadata": {
        "id": "wxlG5b2ZsqHI"
      },
      "source": [
        "class PositionwiseFeedforwardLayer(nn.Module):\r\n",
        "    def __init__(self, hid_dim, pf_dim, dropout):\r\n",
        "        super().__init__()\r\n",
        "\r\n",
        "        self.fc1 = nn.Linear(hid_dim, pf_dim)\r\n",
        "        self.fc2 = nn.Linear(pf_dim, hid_dim)\r\n",
        "\r\n",
        "        self.dropout = nn.Dropout(dropout)\r\n",
        "\r\n",
        "    def forward(self, x):\r\n",
        "        # x = [batch_size, seq_len, hid_dim] \r\n",
        "        x = self.dropout(torch.relu(self.fc1(x)))\r\n",
        "        x = self.fc2(x)\r\n",
        "        # x = [batch_size, seq_len, hid_dim]\r\n",
        "\r\n",
        "        return x"
      ],
      "execution_count": null,
      "outputs": []
    },
    {
      "cell_type": "markdown",
      "metadata": {
        "id": "K-CCcq1R6lPb"
      },
      "source": [
        "## Decoder\r\n",
        "![](https://raw.githubusercontent.com/bentrevett/pytorch-seq2seq/9479fcb532214ad26fd4bda9fcf081a05e1aaf4e/assets/transformer-decoder.png)\r\n",
        "\r\n",
        "Now comes the decoder part, the decoder takes encoder outputs and the target sentece to generate train the network and generate the outputs.\r\n",
        "\r\n",
        "The decoder components are mostly similar to the encoder, although there are a few necessary changes that are done.\r\n",
        "\r\n",
        "Starting from below we can see the same embeddings (target and the positional embeddings are applied.\r\n",
        "\r\n",
        "These embeddings are then sent to masekd multi-head attention blocks, these blocks and theoutputs are then added with the residual outputs and then noramalized using batch norm (known as layer norm here).\r\n",
        "\r\n",
        "Now these outputs are again sent the Multi-headed attention block along with the encoder outputs, this block generates a relationship between Source coming from encoder and the Target values.\r\n",
        "\r\n",
        "Then these values are again added with the residual outputs and sent to linear layer. Finally softmax is applied to the results"
      ]
    },
    {
      "cell_type": "code",
      "metadata": {
        "id": "mJ_xLa4U6jjW"
      },
      "source": [
        "class Decoder(nn.Module):\r\n",
        "    def __init__(self,\r\n",
        "                 output_dim,\r\n",
        "                 hid_dim,\r\n",
        "                 n_layers,\r\n",
        "                 n_heads,\r\n",
        "                 pf_dim,\r\n",
        "                 dropout,\r\n",
        "                 device,\r\n",
        "                 max_length=100):\r\n",
        "\r\n",
        "        super().__init__()\r\n",
        "        self.device = device\r\n",
        "        self.dropout = nn.Dropout(dropout)\r\n",
        "\r\n",
        "        self.tok_embd = nn.Embedding(output_dim, hid_dim)\r\n",
        "        self.pos_embd = nn.Embedding(max_length, hid_dim)\r\n",
        "\r\n",
        "        self.layers = nn.ModuleList([DecoderLayer(hid_dim, \r\n",
        "                                                  n_heads, \r\n",
        "                                                  pf_dim, \r\n",
        "                                                  dropout, \r\n",
        "                                                  device)\r\n",
        "                                     for _ in range(n_layers)])\r\n",
        "        \r\n",
        "        self.scale = torch.sqrt(torch.FloatTensor([hid_dim])).to(device)\r\n",
        "        self.fc_out = nn.Linear(hid_dim, output_dim)\r\n",
        "    \r\n",
        "    def forward(self, trg, enc_src, trg_mask, src_mask):\r\n",
        "\r\n",
        "        # src = [batch_size, trg_len]\r\n",
        "\r\n",
        "        batch_size = trg.shape[0]\r\n",
        "        trg_len = trg.shape[1]\r\n",
        "\r\n",
        "        pos = torch.arange(0, trg_len).unsqueeze(0).repeat(batch_size,1).to(device)\r\n",
        "\r\n",
        "        # pos = [batch_size, trg_len]\r\n",
        "\r\n",
        "        trg = self.dropout(self.tok_embd(trg)* self.scale + self.pos_embd(pos))\r\n",
        "\r\n",
        "        for layer in self.layers:\r\n",
        "            # Why src_mask and trg_mask\r\n",
        "            trg, attention = layer(trg, enc_src, trg_mask, src_mask)\r\n",
        "        \r\n",
        "        output = self.fc_out(trg)\r\n",
        "        # output = [batch_size, trg_len, output_dim, ]\r\n",
        "        return output, attention"
      ],
      "execution_count": null,
      "outputs": []
    },
    {
      "cell_type": "code",
      "metadata": {
        "id": "qoY0Auw88ivr"
      },
      "source": [
        "class DecoderLayer(nn.Module):\r\n",
        "    def __init__(self,\r\n",
        "                 hid_dim,\r\n",
        "                 n_heads,\r\n",
        "                 pf_dim,\r\n",
        "                 dropout,\r\n",
        "                 device):\r\n",
        "        super().__init__()\r\n",
        "\r\n",
        "        self.self_attn_lyr_norm = nn.LayerNorm(hid_dim)\r\n",
        "        self.enc_attn_lyr_norm = nn.LayerNorm(hid_dim)\r\n",
        "        self.ff_layer_norm = nn.LayerNorm(hid_dim)\r\n",
        "        self.self_attention = MultiHeadAttention(hid_dim, n_heads, dropout, device)\r\n",
        "        self.encoder_attention = MultiHeadAttention(hid_dim, n_heads, dropout, device)\r\n",
        "        self.positionwise_feedforward = PositionwiseFeedforwardLayer(hid_dim, pf_dim, dropout)\r\n",
        "\r\n",
        "        self.dropout = nn.Dropout(dropout)\r\n",
        "\r\n",
        "    def forward(self, trg, enc_src, trg_mask, src_mask):\r\n",
        "        # trg = [batch_size, trg_len, hid_dim]\r\n",
        "        # enc_src = [batch_size, src_len, hid_dim]\r\n",
        "        # trg_mask = [batch_size, 1, trg_len, trg_len]\r\n",
        "        # src_mask = [batch_size, 1, 1, src_len]\r\n",
        "\r\n",
        "        # Self \r\n",
        "        # print('Target shape and mask', trg.shape, trg_mask.shape)\r\n",
        "        _trg, _ = self.self_attention(trg, trg, trg, trg_mask)\r\n",
        "\r\n",
        "        # Layer Norm - Dropout, Relu, residual connection\r\n",
        "        trg = self.self_attn_lyr_norm(self.dropout(_trg) + trg)\r\n",
        "\r\n",
        "        # query, key, value\r\n",
        "        _trg, attention = self.encoder_attention(trg, enc_src, enc_src, src_mask)\r\n",
        "        trg = self.enc_attn_lyr_norm(self.dropout(_trg) + trg)\r\n",
        "\r\n",
        "        trg = self.positionwise_feedforward(trg)\r\n",
        "        # trg = [batch_size, trg_len, hid_dim]\r\n",
        "        # attention = [batch_size, n_heads, trg_len, src_len]\r\n",
        "\r\n",
        "        trg = self.ff_layer_norm(trg + self.dropout(_trg))\r\n",
        "        return trg, attention"
      ],
      "execution_count": null,
      "outputs": []
    },
    {
      "cell_type": "markdown",
      "metadata": {
        "id": "wCIglDmvA0pb"
      },
      "source": [
        "## Seq2Seq\r\n",
        "Now its time to build a connection for our data in model, it will travel from encoder to decoder. This class will take the below params\r\n",
        "\r\n",
        "- Encoder Object\r\n",
        "- Encoder Mask\r\n",
        "- Decoder Object\r\n",
        "- Decoder Mask\r\n",
        "- Device\r\n",
        "- Dropout Value\r\n",
        "\r\n",
        "\r\n",
        "First we will create mask for our data, \r\n",
        "\r\n",
        "### But why we need mask??\r\n",
        "We need mask because ......\r\n",
        "\r\n",
        "After this we will cal\r\n",
        "\r\n",
        "'SRC' which is also our source sentence is sent to encoder along with the \r\n",
        "\r\n",
        "'TRG' would be sent to our decoder, along with encoder outputs which is also our generated attention"
      ]
    },
    {
      "cell_type": "code",
      "metadata": {
        "id": "N7QXQvpQGAW8"
      },
      "source": [
        "class Seq2Seq(nn.Module):\r\n",
        "    def __init__(self,\r\n",
        "                 encoder,\r\n",
        "                 decoder,\r\n",
        "                 src_pad_idx,\r\n",
        "                 trg_pad_idx,\r\n",
        "                 device):\r\n",
        "        \r\n",
        "        super().__init__()\r\n",
        "\r\n",
        "        self.encoder = encoder\r\n",
        "        self.decoder = decoder\r\n",
        "        self.src_pad_idx = src_pad_idx\r\n",
        "        self.trg_pad_idx = trg_pad_idx\r\n",
        "        self.device = device\r\n",
        "        \r\n",
        "    def make_src_mask(self, src):\r\n",
        "\r\n",
        "        # src = [batch_size, src_len]\r\n",
        "        src_mask = (src != self.src_pad_idx).unsqueeze(1).unsqueeze(2)\r\n",
        "\r\n",
        "        # src_mask = [batch_size, 1, 1, src_len]\r\n",
        "\r\n",
        "        return src_mask\r\n",
        "\r\n",
        "    def make_trg_mask(self, trg):\r\n",
        "        # trg = [batch_size, trg_len]\r\n",
        "        trg_pad_mask = (trg != self.trg_pad_idx).unsqueeze(1).unsqueeze(2)\r\n",
        "        # print(f'Make target mask {trg.shape}, {trg_pad_mask.shape}')\r\n",
        "        # trg_mask = [batch_size, 1, 1, trg_len]\r\n",
        "    \r\n",
        "        trg_len = trg.shape[1]\r\n",
        "        \r\n",
        "        trg_sub_mask = torch.tril(torch.ones((trg_len, trg_len), device=self.device)).bool()\r\n",
        "        \r\n",
        "        #trg_mask = [batch_size, 1, trg_len, trg_len]\r\n",
        "        \r\n",
        "        trg_mask = trg_pad_mask & trg_sub_mask # What is this & operator???\r\n",
        "\r\n",
        "        # trg_mask = [batch_size, 1, trg_len, trg_len]\r\n",
        "        # print(f'Target mask shape make_trg_mask {trg_mask.shape}')\r\n",
        "\r\n",
        "        return trg_mask\r\n",
        "\r\n",
        "    def forward(self, src, trg):\r\n",
        "        # src = [batch_size, src_len]\r\n",
        "        # trg = [batch_size, trg_len]\r\n",
        "        src_mask = self.make_src_mask(src)\r\n",
        "        trg_mask = self.make_trg_mask(trg)\r\n",
        "\r\n",
        "        enc_src = self.encoder(src, src_mask)\r\n",
        "\r\n",
        "        # enc_src = [batch_size, src_len, hid_dim, output_dim]\r\n",
        "        \r\n",
        "        output, attention = self.decoder(trg, enc_src, trg_mask, src_mask)\r\n",
        "\r\n",
        "        # output = [batch_size, trg_len, output_dim]\r\n",
        "        # attention = [batch_size, n_heads, trg_len, src_len]\r\n",
        "\r\n",
        "        return output, attention"
      ],
      "execution_count": null,
      "outputs": []
    },
    {
      "cell_type": "code",
      "metadata": {
        "id": "nFwodbxMQufG"
      },
      "source": [
        "INPUT_DIM = len(SRC.vocab)\r\n",
        "OUTPUT_DIM = len(TRG.vocab)\r\n",
        "HID_DIM = 256\r\n",
        "ENC_LAYERS = 3\r\n",
        "DEC_LAYERS = 3\r\n",
        "ENC_HEADS = 8\r\n",
        "DEC_HEADS = 8\r\n",
        "ENC_PF_DIM = 512\r\n",
        "DEC_PF_DIM = 512\r\n",
        "ENC_DROPOUT = 0.1\r\n",
        "DEC_DROPOUT = 0.1\r\n",
        "\r\n",
        "enc = Encoder(INPUT_DIM, \r\n",
        "              HID_DIM, \r\n",
        "              ENC_LAYERS, \r\n",
        "              ENC_HEADS, \r\n",
        "              ENC_PF_DIM, \r\n",
        "              ENC_DROPOUT, \r\n",
        "              device)\r\n",
        "\r\n",
        "\r\n",
        "dec = Decoder(OUTPUT_DIM, \r\n",
        "              HID_DIM, \r\n",
        "              DEC_LAYERS, \r\n",
        "              DEC_HEADS, \r\n",
        "              DEC_PF_DIM, \r\n",
        "              DEC_DROPOUT,\r\n",
        "              device)"
      ],
      "execution_count": null,
      "outputs": []
    },
    {
      "cell_type": "code",
      "metadata": {
        "colab": {
          "base_uri": "https://localhost:8080/"
        },
        "id": "5dxBJXw8yxc-",
        "outputId": "e3f09a42-7531-4080-d08d-5a029c7ddac0"
      },
      "source": [
        "# This is a default dict which contains different stopwords, here we check index of <pad> token\r\n",
        "SRC.vocab.stoi['<pad>']"
      ],
      "execution_count": null,
      "outputs": [
        {
          "output_type": "execute_result",
          "data": {
            "text/plain": [
              "1"
            ]
          },
          "metadata": {
            "tags": []
          },
          "execution_count": 41
        }
      ]
    },
    {
      "cell_type": "code",
      "metadata": {
        "id": "t50_VpGpfT__"
      },
      "source": [
        "SRC_PAD_IDX = SRC.vocab.stoi[SRC.pad_token]\r\n",
        "TRG_PAD_IDX = TRG.vocab.stoi[TRG.pad_token]\r\n",
        "\r\n",
        "model = Seq2Seq(enc, dec, SRC_PAD_IDX, TRG_PAD_IDX, device).to(device)"
      ],
      "execution_count": null,
      "outputs": []
    },
    {
      "cell_type": "code",
      "metadata": {
        "colab": {
          "base_uri": "https://localhost:8080/"
        },
        "id": "0jQmQDJmxPz3",
        "outputId": "29f71cc1-7f87-434e-b2cf-2a5ed358d545"
      },
      "source": [
        "print(SRC.vocab.stoi[SRC.pad_token])"
      ],
      "execution_count": null,
      "outputs": [
        {
          "output_type": "stream",
          "text": [
            "1\n"
          ],
          "name": "stdout"
        }
      ]
    },
    {
      "cell_type": "code",
      "metadata": {
        "id": "iQHVSs_HfWz_",
        "colab": {
          "base_uri": "https://localhost:8080/"
        },
        "outputId": "fd4f332a-2f86-454f-8e72-37f8ea353f0d"
      },
      "source": [
        "def count_parameters(model):\r\n",
        "    return sum(p.numel() for p in model.parameters() if p.requires_grad)\r\n",
        "\r\n",
        "print(f'The model has {count_parameters(model):,} trainable parameters')"
      ],
      "execution_count": null,
      "outputs": [
        {
          "output_type": "stream",
          "text": [
            "The model has 9,552,321 trainable parameters\n"
          ],
          "name": "stdout"
        }
      ]
    },
    {
      "cell_type": "code",
      "metadata": {
        "id": "Uv9T5GR-fd6i"
      },
      "source": [
        "def initialize_weights(m):\r\n",
        "    if hasattr(m, 'weight') and m.weight.dim() > 1:\r\n",
        "        nn.init.xavier_uniform_(m.weight.data)"
      ],
      "execution_count": null,
      "outputs": []
    },
    {
      "cell_type": "code",
      "metadata": {
        "id": "z_J2lrglfgLX"
      },
      "source": [
        "model.apply(initialize_weights);"
      ],
      "execution_count": null,
      "outputs": []
    },
    {
      "cell_type": "code",
      "metadata": {
        "id": "hookR_BdfiBx"
      },
      "source": [
        "LEARNING_RATE = 0.0005\r\n",
        "\r\n",
        "optimizer = torch.optim.Adam(model.parameters(), lr = LEARNING_RATE)"
      ],
      "execution_count": null,
      "outputs": []
    },
    {
      "cell_type": "code",
      "metadata": {
        "id": "aNd56VO9fj6R"
      },
      "source": [
        "criterion = nn.CrossEntropyLoss(ignore_index = TRG_PAD_IDX)"
      ],
      "execution_count": null,
      "outputs": []
    },
    {
      "cell_type": "code",
      "metadata": {
        "id": "cAWVywF9foGG"
      },
      "source": [
        "def train(model, iterator, optimizer, criterion, clip):\r\n",
        "    \r\n",
        "    model.train()\r\n",
        "    \r\n",
        "    epoch_loss = 0\r\n",
        "    \r\n",
        "    for i, batch in enumerate(iterator):\r\n",
        "        \r\n",
        "        src = batch.src\r\n",
        "        trg = batch.trg\r\n",
        "\r\n",
        "        # print(src.shape, trg.shape)\r\n",
        "        \r\n",
        "        optimizer.zero_grad()\r\n",
        "\r\n",
        "        # print(trg[:,:-1].shape)\r\n",
        "        \r\n",
        "        output, _ = model(src, trg[:,:-1])\r\n",
        "                \r\n",
        "        #output = [batch size, trg len - 1, output dim]\r\n",
        "        #trg = [batch size, trg len]\r\n",
        "            \r\n",
        "        output_dim = output.shape[-1]\r\n",
        "            \r\n",
        "        output = output.contiguous().view(-1, output_dim)\r\n",
        "        trg = trg[:,1:].contiguous().view(-1)\r\n",
        "                \r\n",
        "        #output = [batch size * trg len - 1, output dim]\r\n",
        "        #trg = [batch size * trg len - 1]\r\n",
        "            \r\n",
        "        loss = criterion(output, trg)\r\n",
        "        \r\n",
        "        loss.backward()\r\n",
        "        \r\n",
        "        torch.nn.utils.clip_grad_norm_(model.parameters(), clip)\r\n",
        "        \r\n",
        "        optimizer.step()\r\n",
        "        \r\n",
        "        epoch_loss += loss.item()\r\n",
        "        \r\n",
        "    return epoch_loss / len(iterator)"
      ],
      "execution_count": null,
      "outputs": []
    },
    {
      "cell_type": "code",
      "metadata": {
        "id": "6LLYDjPEfqpR"
      },
      "source": [
        "def evaluate(model, iterator, criterion):\r\n",
        "    \r\n",
        "    model.eval()\r\n",
        "    \r\n",
        "    epoch_loss = 0\r\n",
        "    \r\n",
        "    with torch.no_grad():\r\n",
        "    \r\n",
        "        for i, batch in enumerate(iterator):\r\n",
        "\r\n",
        "            src = batch.src\r\n",
        "            trg = batch.trg\r\n",
        "\r\n",
        "            output, _ = model(src, trg[:,:-1])\r\n",
        "            \r\n",
        "            #output = [batch size, trg len - 1, output dim]\r\n",
        "            #trg = [batch size, trg len]\r\n",
        "            \r\n",
        "            output_dim = output.shape[-1]\r\n",
        "            \r\n",
        "            output = output.contiguous().view(-1, output_dim)\r\n",
        "            trg = trg[:,1:].contiguous().view(-1)\r\n",
        "            \r\n",
        "            #output = [batch size * trg len - 1, output dim]\r\n",
        "            #trg = [batch size * trg len - 1]\r\n",
        "            \r\n",
        "            loss = criterion(output, trg)\r\n",
        "\r\n",
        "            epoch_loss += loss.item()\r\n",
        "        \r\n",
        "    return epoch_loss / len(iterator)"
      ],
      "execution_count": null,
      "outputs": []
    },
    {
      "cell_type": "code",
      "metadata": {
        "id": "b40yAmlufwAm"
      },
      "source": [
        "def epoch_time(start_time, end_time):\r\n",
        "    elapsed_time = end_time - start_time\r\n",
        "    elapsed_mins = int(elapsed_time / 60)\r\n",
        "    elapsed_secs = int(elapsed_time - (elapsed_mins * 60))\r\n",
        "    return elapsed_mins, elapsed_secs"
      ],
      "execution_count": null,
      "outputs": []
    },
    {
      "cell_type": "code",
      "metadata": {
        "id": "MMTTYW7xfxtz",
        "colab": {
          "base_uri": "https://localhost:8080/",
          "height": 449
        },
        "outputId": "7c2198c9-0a66-4938-85eb-5ef6bc8691b4"
      },
      "source": [
        "N_EPOCHS = 10\r\n",
        "CLIP = 1\r\n",
        "\r\n",
        "best_valid_loss = float('inf')\r\n",
        "\r\n",
        "for epoch in range(N_EPOCHS):\r\n",
        "    \r\n",
        "    start_time = time.time()\r\n",
        "    \r\n",
        "    train_loss = train(model, train_iterator, optimizer, criterion, CLIP)\r\n",
        "    valid_loss = evaluate(model, valid_iterator, criterion)\r\n",
        "    \r\n",
        "    end_time = time.time()\r\n",
        "    \r\n",
        "    epoch_mins, epoch_secs = epoch_time(start_time, end_time)\r\n",
        "    \r\n",
        "    if valid_loss < best_valid_loss:\r\n",
        "        best_valid_loss = valid_loss\r\n",
        "        torch.save(model.state_dict(), 'tut6-model.pt')\r\n",
        "    \r\n",
        "    print(f'Epoch: {epoch+1:02} | Time: {epoch_mins}m {epoch_secs}s')\r\n",
        "    print(f'\\tTrain Loss: {train_loss:.3f} | Train PPL: {math.exp(train_loss):7.3f}')\r\n",
        "    print(f'\\t Val. Loss: {valid_loss:.3f} |  Val. PPL: {math.exp(valid_loss):7.3f}')"
      ],
      "execution_count": null,
      "outputs": [
        {
          "output_type": "stream",
          "text": [
            "Epoch: 01 | Time: 0m 21s\n",
            "\tTrain Loss: 4.562 | Train PPL:  95.762\n",
            "\t Val. Loss: 3.148 |  Val. PPL:  23.294\n"
          ],
          "name": "stdout"
        },
        {
          "output_type": "error",
          "ename": "KeyboardInterrupt",
          "evalue": "ignored",
          "traceback": [
            "\u001b[0;31m---------------------------------------------------------------------------\u001b[0m",
            "\u001b[0;31mKeyboardInterrupt\u001b[0m                         Traceback (most recent call last)",
            "\u001b[0;32m<ipython-input-26-f0cd40d3e413>\u001b[0m in \u001b[0;36m<module>\u001b[0;34m()\u001b[0m\n\u001b[1;32m      8\u001b[0m     \u001b[0mstart_time\u001b[0m \u001b[0;34m=\u001b[0m \u001b[0mtime\u001b[0m\u001b[0;34m.\u001b[0m\u001b[0mtime\u001b[0m\u001b[0;34m(\u001b[0m\u001b[0;34m)\u001b[0m\u001b[0;34m\u001b[0m\u001b[0;34m\u001b[0m\u001b[0m\n\u001b[1;32m      9\u001b[0m \u001b[0;34m\u001b[0m\u001b[0m\n\u001b[0;32m---> 10\u001b[0;31m     \u001b[0mtrain_loss\u001b[0m \u001b[0;34m=\u001b[0m \u001b[0mtrain\u001b[0m\u001b[0;34m(\u001b[0m\u001b[0mmodel\u001b[0m\u001b[0;34m,\u001b[0m \u001b[0mtrain_iterator\u001b[0m\u001b[0;34m,\u001b[0m \u001b[0moptimizer\u001b[0m\u001b[0;34m,\u001b[0m \u001b[0mcriterion\u001b[0m\u001b[0;34m,\u001b[0m \u001b[0mCLIP\u001b[0m\u001b[0;34m)\u001b[0m\u001b[0;34m\u001b[0m\u001b[0;34m\u001b[0m\u001b[0m\n\u001b[0m\u001b[1;32m     11\u001b[0m     \u001b[0mvalid_loss\u001b[0m \u001b[0;34m=\u001b[0m \u001b[0mevaluate\u001b[0m\u001b[0;34m(\u001b[0m\u001b[0mmodel\u001b[0m\u001b[0;34m,\u001b[0m \u001b[0mvalid_iterator\u001b[0m\u001b[0;34m,\u001b[0m \u001b[0mcriterion\u001b[0m\u001b[0;34m)\u001b[0m\u001b[0;34m\u001b[0m\u001b[0;34m\u001b[0m\u001b[0m\n\u001b[1;32m     12\u001b[0m \u001b[0;34m\u001b[0m\u001b[0m\n",
            "\u001b[0;32m<ipython-input-23-a4a1aba34db5>\u001b[0m in \u001b[0;36mtrain\u001b[0;34m(model, iterator, optimizer, criterion, clip)\u001b[0m\n\u001b[1;32m     31\u001b[0m         \u001b[0mloss\u001b[0m \u001b[0;34m=\u001b[0m \u001b[0mcriterion\u001b[0m\u001b[0;34m(\u001b[0m\u001b[0moutput\u001b[0m\u001b[0;34m,\u001b[0m \u001b[0mtrg\u001b[0m\u001b[0;34m)\u001b[0m\u001b[0;34m\u001b[0m\u001b[0;34m\u001b[0m\u001b[0m\n\u001b[1;32m     32\u001b[0m \u001b[0;34m\u001b[0m\u001b[0m\n\u001b[0;32m---> 33\u001b[0;31m         \u001b[0mloss\u001b[0m\u001b[0;34m.\u001b[0m\u001b[0mbackward\u001b[0m\u001b[0;34m(\u001b[0m\u001b[0;34m)\u001b[0m\u001b[0;34m\u001b[0m\u001b[0;34m\u001b[0m\u001b[0m\n\u001b[0m\u001b[1;32m     34\u001b[0m \u001b[0;34m\u001b[0m\u001b[0m\n\u001b[1;32m     35\u001b[0m         \u001b[0mtorch\u001b[0m\u001b[0;34m.\u001b[0m\u001b[0mnn\u001b[0m\u001b[0;34m.\u001b[0m\u001b[0mutils\u001b[0m\u001b[0;34m.\u001b[0m\u001b[0mclip_grad_norm_\u001b[0m\u001b[0;34m(\u001b[0m\u001b[0mmodel\u001b[0m\u001b[0;34m.\u001b[0m\u001b[0mparameters\u001b[0m\u001b[0;34m(\u001b[0m\u001b[0;34m)\u001b[0m\u001b[0;34m,\u001b[0m \u001b[0mclip\u001b[0m\u001b[0;34m)\u001b[0m\u001b[0;34m\u001b[0m\u001b[0;34m\u001b[0m\u001b[0m\n",
            "\u001b[0;32m/usr/local/lib/python3.6/dist-packages/torch/tensor.py\u001b[0m in \u001b[0;36mbackward\u001b[0;34m(self, gradient, retain_graph, create_graph)\u001b[0m\n\u001b[1;32m    219\u001b[0m                 \u001b[0mretain_graph\u001b[0m\u001b[0;34m=\u001b[0m\u001b[0mretain_graph\u001b[0m\u001b[0;34m,\u001b[0m\u001b[0;34m\u001b[0m\u001b[0;34m\u001b[0m\u001b[0m\n\u001b[1;32m    220\u001b[0m                 create_graph=create_graph)\n\u001b[0;32m--> 221\u001b[0;31m         \u001b[0mtorch\u001b[0m\u001b[0;34m.\u001b[0m\u001b[0mautograd\u001b[0m\u001b[0;34m.\u001b[0m\u001b[0mbackward\u001b[0m\u001b[0;34m(\u001b[0m\u001b[0mself\u001b[0m\u001b[0;34m,\u001b[0m \u001b[0mgradient\u001b[0m\u001b[0;34m,\u001b[0m \u001b[0mretain_graph\u001b[0m\u001b[0;34m,\u001b[0m \u001b[0mcreate_graph\u001b[0m\u001b[0;34m)\u001b[0m\u001b[0;34m\u001b[0m\u001b[0;34m\u001b[0m\u001b[0m\n\u001b[0m\u001b[1;32m    222\u001b[0m \u001b[0;34m\u001b[0m\u001b[0m\n\u001b[1;32m    223\u001b[0m     \u001b[0;32mdef\u001b[0m \u001b[0mregister_hook\u001b[0m\u001b[0;34m(\u001b[0m\u001b[0mself\u001b[0m\u001b[0;34m,\u001b[0m \u001b[0mhook\u001b[0m\u001b[0;34m)\u001b[0m\u001b[0;34m:\u001b[0m\u001b[0;34m\u001b[0m\u001b[0;34m\u001b[0m\u001b[0m\n",
            "\u001b[0;32m/usr/local/lib/python3.6/dist-packages/torch/autograd/__init__.py\u001b[0m in \u001b[0;36mbackward\u001b[0;34m(tensors, grad_tensors, retain_graph, create_graph, grad_variables)\u001b[0m\n\u001b[1;32m    130\u001b[0m     Variable._execution_engine.run_backward(\n\u001b[1;32m    131\u001b[0m         \u001b[0mtensors\u001b[0m\u001b[0;34m,\u001b[0m \u001b[0mgrad_tensors_\u001b[0m\u001b[0;34m,\u001b[0m \u001b[0mretain_graph\u001b[0m\u001b[0;34m,\u001b[0m \u001b[0mcreate_graph\u001b[0m\u001b[0;34m,\u001b[0m\u001b[0;34m\u001b[0m\u001b[0;34m\u001b[0m\u001b[0m\n\u001b[0;32m--> 132\u001b[0;31m         allow_unreachable=True)  # allow_unreachable flag\n\u001b[0m\u001b[1;32m    133\u001b[0m \u001b[0;34m\u001b[0m\u001b[0m\n\u001b[1;32m    134\u001b[0m \u001b[0;34m\u001b[0m\u001b[0m\n",
            "\u001b[0;31mKeyboardInterrupt\u001b[0m: "
          ]
        }
      ]
    },
    {
      "cell_type": "code",
      "metadata": {
        "id": "_Etrkwxyf1Ec"
      },
      "source": [
        "model.load_state_dict(torch.load('tut6-model.pt'))\r\n",
        "\r\n",
        "test_loss = evaluate(model, test_iterator, criterion)\r\n",
        "\r\n",
        "print(f'| Test Loss: {test_loss:.3f} | Test PPL: {math.exp(test_loss):7.3f} |')"
      ],
      "execution_count": null,
      "outputs": []
    },
    {
      "cell_type": "code",
      "metadata": {
        "id": "UWMsIP2Bf31G"
      },
      "source": [
        "def translate_sentence(sentence, src_field, trg_field, model, device, max_len = 50):\r\n",
        "    \r\n",
        "    model.eval()\r\n",
        "        \r\n",
        "    if isinstance(sentence, str):\r\n",
        "        nlp = spacy.load('de')\r\n",
        "        tokens = [token.text.lower() for token in nlp(sentence)]\r\n",
        "    else:\r\n",
        "        tokens = [token.lower() for token in sentence]\r\n",
        "\r\n",
        "    tokens = [src_field.init_token] + tokens + [src_field.eos_token]\r\n",
        "        \r\n",
        "    src_indexes = [src_field.vocab.stoi[token] for token in tokens]\r\n",
        "\r\n",
        "    src_tensor = torch.LongTensor(src_indexes).unsqueeze(0).to(device)\r\n",
        "    \r\n",
        "    src_mask = model.make_src_mask(src_tensor)\r\n",
        "    \r\n",
        "    with torch.no_grad():\r\n",
        "        enc_src = model.encoder(src_tensor, src_mask)\r\n",
        "\r\n",
        "    trg_indexes = [trg_field.vocab.stoi[trg_field.init_token]]\r\n",
        "\r\n",
        "    for i in range(max_len):\r\n",
        "\r\n",
        "        trg_tensor = torch.LongTensor(trg_indexes).unsqueeze(0).to(device)\r\n",
        "\r\n",
        "        trg_mask = model.make_trg_mask(trg_tensor)\r\n",
        "        \r\n",
        "        with torch.no_grad():\r\n",
        "            output, attention = model.decoder(trg_tensor, enc_src, trg_mask, src_mask)\r\n",
        "        \r\n",
        "        pred_token = output.argmax(2)[:,-1].item()\r\n",
        "        \r\n",
        "        trg_indexes.append(pred_token)\r\n",
        "\r\n",
        "        if pred_token == trg_field.vocab.stoi[trg_field.eos_token]:\r\n",
        "            break\r\n",
        "    \r\n",
        "    trg_tokens = [trg_field.vocab.itos[i] for i in trg_indexes]\r\n",
        "    \r\n",
        "    return trg_tokens[1:], attention"
      ],
      "execution_count": null,
      "outputs": []
    },
    {
      "cell_type": "code",
      "metadata": {
        "id": "c5clyF8jf6K5"
      },
      "source": [
        "def display_attention(sentence, translation, attention, n_heads = 8, n_rows = 4, n_cols = 2):\r\n",
        "    \r\n",
        "    assert n_rows * n_cols == n_heads\r\n",
        "    \r\n",
        "    fig = plt.figure(figsize=(15,25))\r\n",
        "    \r\n",
        "    for i in range(n_heads):\r\n",
        "        \r\n",
        "        ax = fig.add_subplot(n_rows, n_cols, i+1)\r\n",
        "        \r\n",
        "        _attention = attention.squeeze(0)[i].cpu().detach().numpy()\r\n",
        "\r\n",
        "        cax = ax.matshow(_attention, cmap='bone')\r\n",
        "\r\n",
        "        ax.tick_params(labelsize=12)\r\n",
        "        ax.set_xticklabels(['']+['<sos>']+[t.lower() for t in sentence]+['<eos>'], \r\n",
        "                           rotation=45)\r\n",
        "        ax.set_yticklabels(['']+translation)\r\n",
        "\r\n",
        "        ax.xaxis.set_major_locator(ticker.MultipleLocator(1))\r\n",
        "        ax.yaxis.set_major_locator(ticker.MultipleLocator(1))\r\n",
        "\r\n",
        "    plt.show()"
      ],
      "execution_count": null,
      "outputs": []
    },
    {
      "cell_type": "code",
      "metadata": {
        "id": "EnMEPxqQf8GF"
      },
      "source": [
        "example_idx = 8\r\n",
        "\r\n",
        "src = vars(train_data.examples[example_idx])['src']\r\n",
        "trg = vars(train_data.examples[example_idx])['trg']\r\n",
        "\r\n",
        "print(f'src = {src}')\r\n",
        "print(f'trg = {trg}')"
      ],
      "execution_count": null,
      "outputs": []
    },
    {
      "cell_type": "code",
      "metadata": {
        "id": "epOQbudYf-Ff"
      },
      "source": [
        "translation, attention = translate_sentence(src, SRC, TRG, model, device)\r\n",
        "\r\n",
        "print(f'predicted trg = {translation}')"
      ],
      "execution_count": null,
      "outputs": []
    },
    {
      "cell_type": "code",
      "metadata": {
        "id": "ff_1cleOf_8_"
      },
      "source": [
        "example_idx = 6\r\n",
        "\r\n",
        "src = vars(valid_data.examples[example_idx])['src']\r\n",
        "trg = vars(valid_data.examples[example_idx])['trg']\r\n",
        "\r\n",
        "print(f'src = {src}')\r\n",
        "print(f'trg = {trg}')"
      ],
      "execution_count": null,
      "outputs": []
    },
    {
      "cell_type": "code",
      "metadata": {
        "id": "C4eL9lw8gBck"
      },
      "source": [
        "translation, attention = translate_sentence(src, SRC, TRG, model, device)\r\n",
        "\r\n",
        "print(f'predicted trg = {translation}')"
      ],
      "execution_count": null,
      "outputs": []
    },
    {
      "cell_type": "code",
      "metadata": {
        "id": "FLygP5migDeo"
      },
      "source": [
        "example_idx = 10\r\n",
        "\r\n",
        "src = vars(test_data.examples[example_idx])['src']\r\n",
        "trg = vars(test_data.examples[example_idx])['trg']\r\n",
        "\r\n",
        "print(f'src = {src}')\r\n",
        "print(f'trg = {trg}')"
      ],
      "execution_count": null,
      "outputs": []
    },
    {
      "cell_type": "code",
      "metadata": {
        "id": "NTE36jOTgFAz"
      },
      "source": [
        "translation, attention = translate_sentence(src, SRC, TRG, model, device)\r\n",
        "\r\n",
        "print(f'predicted trg = {translation}')"
      ],
      "execution_count": null,
      "outputs": []
    },
    {
      "cell_type": "code",
      "metadata": {
        "id": "q7Nm3o2CgHXf"
      },
      "source": [
        "from torchtext.data.metrics import bleu_score\r\n",
        "\r\n",
        "def calculate_bleu(data, src_field, trg_field, model, device, max_len = 50):\r\n",
        "    \r\n",
        "    trgs = []\r\n",
        "    pred_trgs = []\r\n",
        "    \r\n",
        "    for datum in data:\r\n",
        "        \r\n",
        "        src = vars(datum)['src']\r\n",
        "        trg = vars(datum)['trg']\r\n",
        "        \r\n",
        "        pred_trg, _ = translate_sentence(src, src_field, trg_field, model, device, max_len)\r\n",
        "        \r\n",
        "        #cut off <eos> token\r\n",
        "        pred_trg = pred_trg[:-1]\r\n",
        "        \r\n",
        "        pred_trgs.append(pred_trg)\r\n",
        "        trgs.append([trg])\r\n",
        "        \r\n",
        "    return bleu_score(pred_trgs, trgs)"
      ],
      "execution_count": null,
      "outputs": []
    },
    {
      "cell_type": "code",
      "metadata": {
        "id": "cnepeQORgJr6"
      },
      "source": [
        "bleu_score = calculate_bleu(test_data, SRC, TRG, model, device)\r\n",
        "\r\n",
        "print(f'BLEU score = {bleu_score*100:.2f}')"
      ],
      "execution_count": null,
      "outputs": []
    }
  ]
}